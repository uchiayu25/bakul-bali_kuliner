{
 "cells": [
  {
   "cell_type": "code",
   "execution_count": 1,
   "id": "b442de05",
   "metadata": {},
   "outputs": [],
   "source": [
    "import integrated_model as im"
   ]
  },
  {
   "cell_type": "code",
   "execution_count": 2,
   "id": "69d2fcd3",
   "metadata": {},
   "outputs": [],
   "source": [
    "data = im.ProcessData(\"Data Orbit - Data Gabungan.csv\")"
   ]
  },
  {
   "cell_type": "code",
   "execution_count": 3,
   "id": "384af5e3",
   "metadata": {},
   "outputs": [
    {
     "name": "stdout",
     "output_type": "stream",
     "text": [
      "781\n",
      "100\n",
      "Number of User: 781, Number of Tempat: 100, Min Rating: 1.0, Max Rating: 5.0\n"
     ]
    }
   ],
   "source": [
    "data.preprocessingdataTabel()"
   ]
  },
  {
   "cell_type": "code",
   "execution_count": null,
   "id": "a05570d2",
   "metadata": {},
   "outputs": [],
   "source": []
  }
 ],
 "metadata": {
  "kernelspec": {
   "display_name": "Python 3 (ipykernel)",
   "language": "python",
   "name": "python3"
  },
  "language_info": {
   "codemirror_mode": {
    "name": "ipython",
    "version": 3
   },
   "file_extension": ".py",
   "mimetype": "text/x-python",
   "name": "python",
   "nbconvert_exporter": "python",
   "pygments_lexer": "ipython3",
   "version": "3.9.7"
  }
 },
 "nbformat": 4,
 "nbformat_minor": 5
}

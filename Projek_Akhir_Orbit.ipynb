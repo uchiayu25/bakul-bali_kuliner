{
 "cells": [
  {
   "cell_type": "markdown",
   "metadata": {
    "id": "swidj4niFckC"
   },
   "source": [
    "##IMPORT LIBRARY"
   ]
  },
  {
   "cell_type": "code",
   "execution_count": 1,
   "metadata": {
    "id": "GYOpQx9WHDCD"
   },
   "outputs": [],
   "source": [
    "#import surprise\n",
    "import pandas as pd\n",
    "import numpy as np\n",
    "#from surprise.model_selection import GridSearchCV\n",
    "from scipy import sparse\n",
    "\n",
    "import tensorflow as tf\n",
    "from tensorflow import keras\n",
    "from tensorflow.keras import layers\n",
    "from pathlib import Path\n",
    "import matplotlib.pyplot as plt"
   ]
  },
  {
   "cell_type": "markdown",
   "metadata": {
    "id": "NDiyR8uQFi0r"
   },
   "source": [
    "## IMPORT DATA"
   ]
  },
  {
   "cell_type": "code",
   "execution_count": 2,
   "metadata": {
    "colab": {
     "base_uri": "https://localhost:8080/",
     "height": 206
    },
    "id": "-n2-ZFa6Ja33",
    "outputId": "866458b9-5840-4c1e-f7e0-7ceacdbef862"
   },
   "outputs": [
    {
     "data": {
      "text/html": [
       "<div>\n",
       "<style scoped>\n",
       "    .dataframe tbody tr th:only-of-type {\n",
       "        vertical-align: middle;\n",
       "    }\n",
       "\n",
       "    .dataframe tbody tr th {\n",
       "        vertical-align: top;\n",
       "    }\n",
       "\n",
       "    .dataframe thead th {\n",
       "        text-align: right;\n",
       "    }\n",
       "</style>\n",
       "<table border=\"1\" class=\"dataframe\">\n",
       "  <thead>\n",
       "    <tr style=\"text-align: right;\">\n",
       "      <th></th>\n",
       "      <th>ID_Tempat</th>\n",
       "      <th>Nama_Tempat</th>\n",
       "      <th>ID_User</th>\n",
       "      <th>Nama_User</th>\n",
       "      <th>Daerah</th>\n",
       "      <th>Latitude</th>\n",
       "      <th>Longitude</th>\n",
       "      <th>Rating</th>\n",
       "      <th>Telepon</th>\n",
       "    </tr>\n",
       "  </thead>\n",
       "  <tbody>\n",
       "    <tr>\n",
       "      <th>0</th>\n",
       "      <td>t0001</td>\n",
       "      <td>Babi Guling &amp; Siobak Singaraja \"Sandi\"</td>\n",
       "      <td>u0035</td>\n",
       "      <td>agus upinn</td>\n",
       "      <td>Denpasar Utara</td>\n",
       "      <td>-8,636,253</td>\n",
       "      <td>115,193,073</td>\n",
       "      <td>5</td>\n",
       "      <td>85965900360</td>\n",
       "    </tr>\n",
       "    <tr>\n",
       "      <th>1</th>\n",
       "      <td>t0001</td>\n",
       "      <td>Babi Guling &amp; Siobak Singaraja \"Sandi\"</td>\n",
       "      <td>u0057</td>\n",
       "      <td>anandha putra i gusti putu</td>\n",
       "      <td>Denpasar Utara</td>\n",
       "      <td>-8,636,253</td>\n",
       "      <td>115,193,073</td>\n",
       "      <td>5</td>\n",
       "      <td>85965900360</td>\n",
       "    </tr>\n",
       "    <tr>\n",
       "      <th>2</th>\n",
       "      <td>t0001</td>\n",
       "      <td>Babi Guling &amp; Siobak Singaraja \"Sandi\"</td>\n",
       "      <td>u0293</td>\n",
       "      <td>gede restu</td>\n",
       "      <td>Denpasar Utara</td>\n",
       "      <td>-8,636,253</td>\n",
       "      <td>115,193,073</td>\n",
       "      <td>5</td>\n",
       "      <td>85965900360</td>\n",
       "    </tr>\n",
       "    <tr>\n",
       "      <th>3</th>\n",
       "      <td>t0001</td>\n",
       "      <td>Babi Guling &amp; Siobak Singaraja \"Sandi\"</td>\n",
       "      <td>u0297</td>\n",
       "      <td>GEDE SUMPENA</td>\n",
       "      <td>Denpasar Utara</td>\n",
       "      <td>-8,636,253</td>\n",
       "      <td>115,193,073</td>\n",
       "      <td>2</td>\n",
       "      <td>85965900360</td>\n",
       "    </tr>\n",
       "    <tr>\n",
       "      <th>4</th>\n",
       "      <td>t0001</td>\n",
       "      <td>Babi Guling &amp; Siobak Singaraja \"Sandi\"</td>\n",
       "      <td>u0349</td>\n",
       "      <td>I KADEK WIRAWAN</td>\n",
       "      <td>Denpasar Utara</td>\n",
       "      <td>-8,636,253</td>\n",
       "      <td>115,193,073</td>\n",
       "      <td>5</td>\n",
       "      <td>85965900360</td>\n",
       "    </tr>\n",
       "  </tbody>\n",
       "</table>\n",
       "</div>"
      ],
      "text/plain": [
       "  ID_Tempat                             Nama_Tempat ID_User  \\\n",
       "0     t0001  Babi Guling & Siobak Singaraja \"Sandi\"   u0035   \n",
       "1     t0001  Babi Guling & Siobak Singaraja \"Sandi\"   u0057   \n",
       "2     t0001  Babi Guling & Siobak Singaraja \"Sandi\"   u0293   \n",
       "3     t0001  Babi Guling & Siobak Singaraja \"Sandi\"   u0297   \n",
       "4     t0001  Babi Guling & Siobak Singaraja \"Sandi\"   u0349   \n",
       "\n",
       "                    Nama_User          Daerah    Latitude    Longitude  \\\n",
       "0                  agus upinn  Denpasar Utara  -8,636,253  115,193,073   \n",
       "1  anandha putra i gusti putu  Denpasar Utara  -8,636,253  115,193,073   \n",
       "2                  gede restu  Denpasar Utara  -8,636,253  115,193,073   \n",
       "3                GEDE SUMPENA  Denpasar Utara  -8,636,253  115,193,073   \n",
       "4             I KADEK WIRAWAN  Denpasar Utara  -8,636,253  115,193,073   \n",
       "\n",
       "   Rating      Telepon  \n",
       "0       5  85965900360  \n",
       "1       5  85965900360  \n",
       "2       5  85965900360  \n",
       "3       2  85965900360  \n",
       "4       5  85965900360  "
      ]
     },
     "execution_count": 2,
     "metadata": {},
     "output_type": "execute_result"
    }
   ],
   "source": [
    "mydata = pd.read_csv('Data Orbit - Data Gabungan.csv')\n",
    "mydata.head()"
   ]
  },
  {
   "cell_type": "code",
   "execution_count": 3,
   "metadata": {
    "colab": {
     "base_uri": "https://localhost:8080/"
    },
    "id": "yh-wEDgIEfwG",
    "outputId": "dd6a9787-079a-4ff8-fe6d-a2cca49a772f"
   },
   "outputs": [
    {
     "name": "stdout",
     "output_type": "stream",
     "text": [
      "<class 'pandas.core.frame.DataFrame'>\n",
      "RangeIndex: 813 entries, 0 to 812\n",
      "Data columns (total 9 columns):\n",
      " #   Column       Non-Null Count  Dtype \n",
      "---  ------       --------------  ----- \n",
      " 0   ID_Tempat    813 non-null    object\n",
      " 1   Nama_Tempat  813 non-null    object\n",
      " 2   ID_User      813 non-null    object\n",
      " 3   Nama_User    813 non-null    object\n",
      " 4   Daerah       813 non-null    object\n",
      " 5   Latitude     813 non-null    object\n",
      " 6   Longitude    813 non-null    object\n",
      " 7   Rating       813 non-null    int64 \n",
      " 8   Telepon      813 non-null    object\n",
      "dtypes: int64(1), object(8)\n",
      "memory usage: 57.3+ KB\n"
     ]
    }
   ],
   "source": [
    "mydata.info()"
   ]
  },
  {
   "cell_type": "code",
   "execution_count": 4,
   "metadata": {
    "colab": {
     "base_uri": "https://localhost:8080/",
     "height": 337
    },
    "id": "KcbsuntPUNR3",
    "outputId": "6b2db8c9-6bc8-43c3-905d-da90d3960fe9"
   },
   "outputs": [
    {
     "data": {
      "text/html": [
       "<div>\n",
       "<style scoped>\n",
       "    .dataframe tbody tr th:only-of-type {\n",
       "        vertical-align: middle;\n",
       "    }\n",
       "\n",
       "    .dataframe tbody tr th {\n",
       "        vertical-align: top;\n",
       "    }\n",
       "\n",
       "    .dataframe thead th {\n",
       "        text-align: right;\n",
       "    }\n",
       "</style>\n",
       "<table border=\"1\" class=\"dataframe\">\n",
       "  <thead>\n",
       "    <tr style=\"text-align: right;\">\n",
       "      <th></th>\n",
       "      <th>ID_Tempat</th>\n",
       "      <th>Nama_Tempat</th>\n",
       "      <th>Daerah</th>\n",
       "      <th>Latitude</th>\n",
       "      <th>Longitude</th>\n",
       "      <th>Telepon</th>\n",
       "      <th>Gambar</th>\n",
       "      <th>Menu</th>\n",
       "    </tr>\n",
       "  </thead>\n",
       "  <tbody>\n",
       "    <tr>\n",
       "      <th>0</th>\n",
       "      <td>t0001</td>\n",
       "      <td>Babi Guling &amp; Siobak Singaraja \"Sandi\"</td>\n",
       "      <td>Denpasar Utara</td>\n",
       "      <td>-8,636,253</td>\n",
       "      <td>115,193,073</td>\n",
       "      <td>85965900360</td>\n",
       "      <td>1_a,1_b</td>\n",
       "      <td>Nasi Babi Guling Biasa, Nasi Babi Guling Spesi...</td>\n",
       "    </tr>\n",
       "    <tr>\n",
       "      <th>1</th>\n",
       "      <td>t0002</td>\n",
       "      <td>Wr. Babi Guling Mawar</td>\n",
       "      <td>Denpasar Utara</td>\n",
       "      <td>-8,627,955</td>\n",
       "      <td>115,208,472</td>\n",
       "      <td>81805313408</td>\n",
       "      <td>2_a,2_b,2_c</td>\n",
       "      <td>Nasi Babi Guling Siram Bumbu, Nasi Be Guling, ...</td>\n",
       "    </tr>\n",
       "    <tr>\n",
       "      <th>2</th>\n",
       "      <td>t0003</td>\n",
       "      <td>Wr. Makan Pak Joni</td>\n",
       "      <td>Denpasar Selatan</td>\n",
       "      <td>-87,027,762</td>\n",
       "      <td>1,152,305,969</td>\n",
       "      <td>85237101606</td>\n",
       "      <td>3_a,3_b,3_c,3_d</td>\n",
       "      <td>Nasi Lawar Sapi, Nasi Lawar, Nasi Lawar Kompli...</td>\n",
       "    </tr>\n",
       "    <tr>\n",
       "      <th>3</th>\n",
       "      <td>t0004</td>\n",
       "      <td>Wr. Babi Guling Cahaya Bintang Tina</td>\n",
       "      <td>Denpasar Utara</td>\n",
       "      <td>-8,636,147</td>\n",
       "      <td>115,210,471</td>\n",
       "      <td>81236381964</td>\n",
       "      <td>4_a,4_b,4_c</td>\n",
       "      <td>Nasi Babi Guling Istimewa, Nasi Babi Guling Bi...</td>\n",
       "    </tr>\n",
       "    <tr>\n",
       "      <th>4</th>\n",
       "      <td>t0005</td>\n",
       "      <td>Wr. Babi Guling Sandi</td>\n",
       "      <td>Denpasar Utara</td>\n",
       "      <td>-8,615,789</td>\n",
       "      <td>115,212,484</td>\n",
       "      <td>81999588028</td>\n",
       "      <td>5_a</td>\n",
       "      <td>Nasi Babi Guling Komplit, Babi Guling Spesial,...</td>\n",
       "    </tr>\n",
       "  </tbody>\n",
       "</table>\n",
       "</div>"
      ],
      "text/plain": [
       "  ID_Tempat                             Nama_Tempat            Daerah  \\\n",
       "0     t0001  Babi Guling & Siobak Singaraja \"Sandi\"    Denpasar Utara   \n",
       "1     t0002                   Wr. Babi Guling Mawar    Denpasar Utara   \n",
       "2     t0003                      Wr. Makan Pak Joni  Denpasar Selatan   \n",
       "3     t0004     Wr. Babi Guling Cahaya Bintang Tina    Denpasar Utara   \n",
       "4     t0005                   Wr. Babi Guling Sandi    Denpasar Utara   \n",
       "\n",
       "      Latitude      Longitude      Telepon           Gambar  \\\n",
       "0   -8,636,253    115,193,073  85965900360          1_a,1_b   \n",
       "1   -8,627,955    115,208,472  81805313408      2_a,2_b,2_c   \n",
       "2  -87,027,762  1,152,305,969  85237101606  3_a,3_b,3_c,3_d   \n",
       "3   -8,636,147    115,210,471  81236381964      4_a,4_b,4_c   \n",
       "4   -8,615,789    115,212,484  81999588028              5_a   \n",
       "\n",
       "                                                Menu  \n",
       "0  Nasi Babi Guling Biasa, Nasi Babi Guling Spesi...  \n",
       "1  Nasi Babi Guling Siram Bumbu, Nasi Be Guling, ...  \n",
       "2  Nasi Lawar Sapi, Nasi Lawar, Nasi Lawar Kompli...  \n",
       "3  Nasi Babi Guling Istimewa, Nasi Babi Guling Bi...  \n",
       "4  Nasi Babi Guling Komplit, Babi Guling Spesial,...  "
      ]
     },
     "execution_count": 4,
     "metadata": {},
     "output_type": "execute_result"
    }
   ],
   "source": [
    "datamy = pd.read_csv('Data Orbit - Data Tempat lengkap.csv')\n",
    "datamy.head()"
   ]
  },
  {
   "cell_type": "code",
   "execution_count": 5,
   "metadata": {
    "colab": {
     "base_uri": "https://localhost:8080/"
    },
    "id": "ZGMkQu7UUb2p",
    "outputId": "374967d6-5fac-4c02-afd8-736c52c1c1e6"
   },
   "outputs": [
    {
     "name": "stdout",
     "output_type": "stream",
     "text": [
      "<class 'pandas.core.frame.DataFrame'>\n",
      "RangeIndex: 100 entries, 0 to 99\n",
      "Data columns (total 8 columns):\n",
      " #   Column       Non-Null Count  Dtype \n",
      "---  ------       --------------  ----- \n",
      " 0   ID_Tempat    100 non-null    object\n",
      " 1   Nama_Tempat  100 non-null    object\n",
      " 2   Daerah       100 non-null    object\n",
      " 3   Latitude     100 non-null    object\n",
      " 4   Longitude    100 non-null    object\n",
      " 5   Telepon      100 non-null    object\n",
      " 6   Gambar       100 non-null    object\n",
      " 7   Menu         100 non-null    object\n",
      "dtypes: object(8)\n",
      "memory usage: 6.4+ KB\n"
     ]
    }
   ],
   "source": [
    "datamy.info()"
   ]
  },
  {
   "cell_type": "markdown",
   "metadata": {
    "id": "f8khCCIUFmfq"
   },
   "source": [
    "## PREPROCESSING"
   ]
  },
  {
   "cell_type": "code",
   "execution_count": 6,
   "metadata": {
    "id": "Y211pLSAEi_E"
   },
   "outputs": [],
   "source": [
    "mydata['Rating'] = mydata['Rating'].replace(r'\\D+','',regex=True)\n",
    "mydata['Rating'] = pd.to_numeric(mydata.Rating)"
   ]
  },
  {
   "cell_type": "markdown",
   "metadata": {
    "id": "YNSnRQUWnXR2"
   },
   "source": []
  },
  {
   "cell_type": "code",
   "execution_count": 7,
   "metadata": {
    "id": "sbWtadz2FGnY"
   },
   "outputs": [],
   "source": [
    "mydata['Latitude'] = mydata['Latitude'].replace(r'\\D+','',regex=True)\n",
    "mydata['Latitude'] = pd.to_numeric(mydata.Rating)\n",
    "mydata['Longitude'] = mydata['Longitude'].replace(r'\\D+','',regex=True)\n",
    "mydata['Longitude'] = pd.to_numeric(mydata.Rating)"
   ]
  },
  {
   "cell_type": "code",
   "execution_count": 8,
   "metadata": {
    "colab": {
     "base_uri": "https://localhost:8080/"
    },
    "id": "OnVijdVlFGxS",
    "outputId": "3f45da2f-c2f9-49c5-d80d-3c29a7976260"
   },
   "outputs": [
    {
     "name": "stdout",
     "output_type": "stream",
     "text": [
      "<class 'pandas.core.frame.DataFrame'>\n",
      "RangeIndex: 813 entries, 0 to 812\n",
      "Data columns (total 9 columns):\n",
      " #   Column       Non-Null Count  Dtype \n",
      "---  ------       --------------  ----- \n",
      " 0   ID_Tempat    813 non-null    object\n",
      " 1   Nama_Tempat  813 non-null    object\n",
      " 2   ID_User      813 non-null    object\n",
      " 3   Nama_User    813 non-null    object\n",
      " 4   Daerah       813 non-null    object\n",
      " 5   Latitude     813 non-null    int64 \n",
      " 6   Longitude    813 non-null    int64 \n",
      " 7   Rating       813 non-null    int64 \n",
      " 8   Telepon      813 non-null    object\n",
      "dtypes: int64(3), object(6)\n",
      "memory usage: 57.3+ KB\n"
     ]
    }
   ],
   "source": [
    "mydata.info()"
   ]
  },
  {
   "cell_type": "code",
   "execution_count": 9,
   "metadata": {
    "colab": {
     "base_uri": "https://localhost:8080/"
    },
    "id": "lRon7MSItneO",
    "outputId": "90958d0d-cd26-4394-b751-f69bdd212bf3"
   },
   "outputs": [
    {
     "data": {
      "text/plain": [
       "ID_Tempat      0\n",
       "Nama_Tempat    0\n",
       "ID_User        0\n",
       "Nama_User      0\n",
       "Daerah         0\n",
       "Latitude       0\n",
       "Longitude      0\n",
       "Rating         0\n",
       "Telepon        0\n",
       "dtype: int64"
      ]
     },
     "execution_count": 9,
     "metadata": {},
     "output_type": "execute_result"
    }
   ],
   "source": [
    "mydata.isnull().sum()"
   ]
  },
  {
   "cell_type": "markdown",
   "metadata": {
    "id": "-AjprIHIDCh9"
   },
   "source": [
    "## Membuat dictionary tempat"
   ]
  },
  {
   "cell_type": "code",
   "execution_count": 10,
   "metadata": {
    "colab": {
     "base_uri": "https://localhost:8080/",
     "height": 424
    },
    "id": "OYiwHwSBCrlc",
    "outputId": "d5308bbe-daa2-4576-d5f4-282a9fe254d7"
   },
   "outputs": [
    {
     "data": {
      "text/html": [
       "<div>\n",
       "<style scoped>\n",
       "    .dataframe tbody tr th:only-of-type {\n",
       "        vertical-align: middle;\n",
       "    }\n",
       "\n",
       "    .dataframe tbody tr th {\n",
       "        vertical-align: top;\n",
       "    }\n",
       "\n",
       "    .dataframe thead th {\n",
       "        text-align: right;\n",
       "    }\n",
       "</style>\n",
       "<table border=\"1\" class=\"dataframe\">\n",
       "  <thead>\n",
       "    <tr style=\"text-align: right;\">\n",
       "      <th></th>\n",
       "      <th>id</th>\n",
       "      <th>nama</th>\n",
       "      <th>lokasi</th>\n",
       "      <th>gambar</th>\n",
       "      <th>menu</th>\n",
       "    </tr>\n",
       "  </thead>\n",
       "  <tbody>\n",
       "    <tr>\n",
       "      <th>0</th>\n",
       "      <td>t0001</td>\n",
       "      <td>Babi Guling &amp; Siobak Singaraja \"Sandi\"</td>\n",
       "      <td>Denpasar Utara</td>\n",
       "      <td>1_a,1_b</td>\n",
       "      <td>Nasi Babi Guling Biasa, Nasi Babi Guling Spesi...</td>\n",
       "    </tr>\n",
       "    <tr>\n",
       "      <th>1</th>\n",
       "      <td>t0002</td>\n",
       "      <td>Wr. Babi Guling Mawar</td>\n",
       "      <td>Denpasar Utara</td>\n",
       "      <td>2_a,2_b,2_c</td>\n",
       "      <td>Nasi Babi Guling Siram Bumbu, Nasi Be Guling, ...</td>\n",
       "    </tr>\n",
       "    <tr>\n",
       "      <th>2</th>\n",
       "      <td>t0003</td>\n",
       "      <td>Wr. Makan Pak Joni</td>\n",
       "      <td>Denpasar Selatan</td>\n",
       "      <td>3_a,3_b,3_c,3_d</td>\n",
       "      <td>Nasi Lawar Sapi, Nasi Lawar, Nasi Lawar Kompli...</td>\n",
       "    </tr>\n",
       "    <tr>\n",
       "      <th>3</th>\n",
       "      <td>t0004</td>\n",
       "      <td>Wr. Babi Guling Cahaya Bintang Tina</td>\n",
       "      <td>Denpasar Utara</td>\n",
       "      <td>4_a,4_b,4_c</td>\n",
       "      <td>Nasi Babi Guling Istimewa, Nasi Babi Guling Bi...</td>\n",
       "    </tr>\n",
       "    <tr>\n",
       "      <th>4</th>\n",
       "      <td>t0005</td>\n",
       "      <td>Wr. Babi Guling Sandi</td>\n",
       "      <td>Denpasar Utara</td>\n",
       "      <td>5_a</td>\n",
       "      <td>Nasi Babi Guling Komplit, Babi Guling Spesial,...</td>\n",
       "    </tr>\n",
       "    <tr>\n",
       "      <th>...</th>\n",
       "      <td>...</td>\n",
       "      <td>...</td>\n",
       "      <td>...</td>\n",
       "      <td>...</td>\n",
       "      <td>...</td>\n",
       "    </tr>\n",
       "    <tr>\n",
       "      <th>95</th>\n",
       "      <td>t0096</td>\n",
       "      <td>Warung Makan Babi Guling Bu Manis</td>\n",
       "      <td>Denpasar</td>\n",
       "      <td>96_a,96_b</td>\n",
       "      <td>Nasi Babi Guling Pisah, Nasi Babi Guling Campu...</td>\n",
       "    </tr>\n",
       "    <tr>\n",
       "      <th>96</th>\n",
       "      <td>t0097</td>\n",
       "      <td>Rumah Makan Babi Guling Sari Nadi</td>\n",
       "      <td>Denpasar</td>\n",
       "      <td>97_a,97_b</td>\n",
       "      <td>Nasi Babi Guling Spesial, Nasi Babi Guling Bia...</td>\n",
       "    </tr>\n",
       "    <tr>\n",
       "      <th>97</th>\n",
       "      <td>t0098</td>\n",
       "      <td>Lawar Kuwir Yan Jinah</td>\n",
       "      <td>Denpasar</td>\n",
       "      <td>98_a,98_b</td>\n",
       "      <td>Nasi Campur Lawar Kuwir Yan Jinah, Lawar Kuwir...</td>\n",
       "    </tr>\n",
       "    <tr>\n",
       "      <th>98</th>\n",
       "      <td>t0099</td>\n",
       "      <td>Warung Lawar Khana</td>\n",
       "      <td>Denpasar</td>\n",
       "      <td>99_a,99_b</td>\n",
       "      <td>Nasi Lawar Campur, Nasi Soto Lawar Campur, Nas...</td>\n",
       "    </tr>\n",
       "    <tr>\n",
       "      <th>99</th>\n",
       "      <td>t0100</td>\n",
       "      <td>Liligundi Warung Jaje Bali</td>\n",
       "      <td>Denpasar</td>\n",
       "      <td>100_a,100_b</td>\n",
       "      <td>Jaje Bali Campur, Bubuh Sumsum, Laklak Keju Su...</td>\n",
       "    </tr>\n",
       "  </tbody>\n",
       "</table>\n",
       "<p>100 rows × 5 columns</p>\n",
       "</div>"
      ],
      "text/plain": [
       "       id                                    nama            lokasi  \\\n",
       "0   t0001  Babi Guling & Siobak Singaraja \"Sandi\"    Denpasar Utara   \n",
       "1   t0002                   Wr. Babi Guling Mawar    Denpasar Utara   \n",
       "2   t0003                      Wr. Makan Pak Joni  Denpasar Selatan   \n",
       "3   t0004     Wr. Babi Guling Cahaya Bintang Tina    Denpasar Utara   \n",
       "4   t0005                   Wr. Babi Guling Sandi    Denpasar Utara   \n",
       "..    ...                                     ...               ...   \n",
       "95  t0096       Warung Makan Babi Guling Bu Manis          Denpasar   \n",
       "96  t0097       Rumah Makan Babi Guling Sari Nadi          Denpasar   \n",
       "97  t0098                   Lawar Kuwir Yan Jinah          Denpasar   \n",
       "98  t0099                      Warung Lawar Khana          Denpasar   \n",
       "99  t0100              Liligundi Warung Jaje Bali          Denpasar   \n",
       "\n",
       "             gambar                                               menu  \n",
       "0           1_a,1_b  Nasi Babi Guling Biasa, Nasi Babi Guling Spesi...  \n",
       "1       2_a,2_b,2_c  Nasi Babi Guling Siram Bumbu, Nasi Be Guling, ...  \n",
       "2   3_a,3_b,3_c,3_d  Nasi Lawar Sapi, Nasi Lawar, Nasi Lawar Kompli...  \n",
       "3       4_a,4_b,4_c  Nasi Babi Guling Istimewa, Nasi Babi Guling Bi...  \n",
       "4               5_a  Nasi Babi Guling Komplit, Babi Guling Spesial,...  \n",
       "..              ...                                                ...  \n",
       "95        96_a,96_b  Nasi Babi Guling Pisah, Nasi Babi Guling Campu...  \n",
       "96        97_a,97_b  Nasi Babi Guling Spesial, Nasi Babi Guling Bia...  \n",
       "97        98_a,98_b  Nasi Campur Lawar Kuwir Yan Jinah, Lawar Kuwir...  \n",
       "98        99_a,99_b  Nasi Lawar Campur, Nasi Soto Lawar Campur, Nas...  \n",
       "99      100_a,100_b  Jaje Bali Campur, Bubuh Sumsum, Laklak Keju Su...  \n",
       "\n",
       "[100 rows x 5 columns]"
      ]
     },
     "execution_count": 10,
     "metadata": {},
     "output_type": "execute_result"
    }
   ],
   "source": [
    "tempat_new = pd.DataFrame({\n",
    "    'id': datamy.ID_Tempat,\n",
    "    'nama': datamy.Nama_Tempat,\n",
    "    'lokasi': datamy.Daerah,\n",
    "    'gambar': datamy.Gambar,\n",
    "    'menu': datamy.Menu\n",
    "})\n",
    "tempat_new"
   ]
  },
  {
   "cell_type": "markdown",
   "metadata": {
    "id": "7jC98iKgaTb9"
   },
   "source": [
    "## Data preparation\n",
    "Melakukan persiapan data untuk menyandikan (encode) fitur 'ID_User' dan 'ID_Tempat' ke dalam indeks integer."
   ]
  },
  {
   "cell_type": "code",
   "execution_count": 11,
   "metadata": {
    "colab": {
     "base_uri": "https://localhost:8080/"
    },
    "id": "_uKqH7fbZsMx",
    "outputId": "279cdd0c-2909-439f-a031-76bc14929d51"
   },
   "outputs": [
    {
     "name": "stdout",
     "output_type": "stream",
     "text": [
      "list ID_User:  ['u0035', 'u0057', 'u0293', 'u0297', 'u0349', 'u0356', 'u0531', 'u0542', 'u0640', 'u0641', 'u0016', 'u0027', 'u0060', 'u0088', 'u0288', 'u0355', 'u0514', 'u0516', 'u0617', 'u0626', 'u0028', 'u0137', 'u0335', 'u0338', 'u0360', 'u0364', 'u0467', 'u0684', 'u0701', 'u0758', 'u0026', 'u0051', 'u0133', 'u0186', 'u0251', 'u0292', 'u0379', 'u0449', 'u0721', 'u0723', 'u0090', 'u0197', 'u0223', 'u0320', 'u0439', 'u0456', 'u0557', 'u0568', 'u0673', 'u0145', 'u0230', 'u0327', 'u0383', 'u0480', 'u0643', 'u0675', 'u0686', 'u0698', 'u0010', 'u0152', 'u0182', 'u0333', 'u0345', 'u0359', 'u0437', 'u0481', 'u0484', 'u0548', 'u0032', 'u0233', 'u0258', 'u0272', 'u0390', 'u0401', 'u0475', 'u0573', 'u0720', 'u0760', 'u0021', 'u0046', 'u0054', 'u0119', 'u0422', 'u0490', 'u0533', 'u0581', 'u0682', 'u0716', 'u0059', 'u0154', 'u0195', 'u0289', 'u0386', 'u0463', 'u0486', 'u0559', 'u0616', 'u0773', 'u0151', 'u0185', 'u0189', 'u0229', 'u0332', 'u0380', 'u0419', 'u0457', 'u0576', 'u0623', 'u0131', 'u0202', 'u0343', 'u0370', 'u0452', 'u0462', 'u0477', 'u0649', 'u0728', 'u0002', 'u0241', 'u0336', 'u0351', 'u0651', 'u0464', 'u0730', 'u0004', 'u0018', 'u0064', 'u0087', 'u0091', 'u0111', 'u0147', 'u0294', 'u0521', 'u0732', 'u0235', 'u0284', 'u0353', 'u0395', 'u0420', 'u0501', 'u0560', 'u0604', 'u0611', 'u0735', 'u0086', 'u0104', 'u0448', 'u0236', 'u0693', 'u0378', 'u0528', 'u0668', 'u0132', 'u0252', 'u0286', 'u0346', 'u0393', 'u0485', 'u0540', 'u0044', 'u0115', 'u0323', 'u0433', 'u0498', 'u0572', 'u0607', 'u0746', 'u0765', 'u0778', 'u0082', 'u0162', 'u0249', 'u0261', 'u0283', 'u0446', 'u0451', 'u0569', 'u0624', 'u0706', 'u0058', 'u0207', 'u0213', 'u0243', 'u0402', 'u0489', 'u0543', 'u0639', 'u0726', 'u0775', 'u0231', 'u0310', 'u0072', 'u0099', 'u0168', 'u0347', 'u0352', 'u0478', 'u0495', 'u0505', 'u0683', 'u0776', 'u0065', 'u0075', 'u0369', 'u0408', 'u0432', 'u0545', 'u0599', 'u0690', 'u0719', 'u0744', 'u0014', 'u0030', 'u0089', 'u0105', 'u0135', 'u0295', 'u0430', 'u0565', 'u0630', 'u0670', 'u0077', 'u0093', 'u0211', 'u0234', 'u0237', 'u0506', 'u0603', 'u0704', 'u0725', 'u0029', 'u0218', 'u0232', 'u0300', 'u0413', 'u0580', 'u0591', 'u0710', 'u0755', 'u0764', 'u0042', 'u0097', 'u0118', 'u0136', 'u0164', 'u0298', 'u0313', 'u0496', 'u0551', 'u0600', 'u0621', 'u0100', 'u0203', 'u0325', 'u0411', 'u0012', 'u0067', 'u0221', 'u0315', 'u0550', 'u0646', 'u0652', 'u0679', 'u0705', 'u0740', 'u0375', 'u0031', 'u0120', 'u0128', 'u0532', 'u0597', 'u0071', 'u0421', 'u0429', 'u0715', 'u0098', 'u0123', 'u0160', 'u0187', 'u0215', 'u0240', 'u0275', 'u0282', 'u0461', 'u0781', 'u0361', 'u0453', 'u0454', 'u0549', 'u0583', 'u0592', 'u0601', 'u0692', 'u0748', 'u0768', 'u0052', 'u0108', 'u0204', 'u0222', 'u0511', 'u0662', 'u0666', 'u0674', 'u0707', 'u0751', 'u0148', 'u0172', 'u0244', 'u0470', 'u0492', 'u0633', 'u0634', 'u0763', 'u0766', 'u0772', 'u0006', 'u0122', 'u0428', 'u0013', 'u0034', 'u0080', 'u0092', 'u0153', 'u0155', 'u0161', 'u0163', 'u0441', 'u0524', 'u0069', 'u0248', 'u0412', 'u0417', 'u0424', 'u0526', 'u0585', 'u0700', 'u0738', 'u0752', 'u0009', 'u0038', 'u0076', 'u0178', 'u0210', 'u0280', 'u0471', 'u0476', 'u0761', 'u0771', 'u0191', 'u0372', 'u0387', 'u0525', 'u0537', 'u0575', 'u0628', 'u0632', 'u0647', 'u0779', 'u0184', 'u0242', 'u0285', 'u0314', 'u0374', 'u0388', 'u0466', 'u0509', 'u0523', 'u0615', 'u0040', 'u0139', 'u0255', 'u0256', 'u0274', 'u0450', 'u0512', 'u0613', 'u0688', 'u0101', 'u0190', 'u0200', 'u0246', 'u0334', 'u0425', 'u0584', 'u0602', 'u0667', 'u0777', 'u0095', 'u0170', 'u0227', 'u0260', 'u0273', 'u0279', 'u0304', 'u0391', 'u0507', 'u0556', 'u0019', 'u0053', 'u0094', 'u0124', 'u0270', 'u0316', 'u0396', 'u0407', 'u0458', 'u0061', 'u0198', 'u0423', 'u0555', 'u0579', 'u0687', 'u0711', 'u0774', 'u0522', 'u0598', 'u0011', 'u0113', 'u0291', 'u0367', 'u0443', 'u0459', 'u0578', 'u0625', 'u0642', 'u0663', 'u0176', 'u0194', 'u0208', 'u0264', 'u0302', 'u0508', 'u0535', 'u0727', 'u0756', 'u0070', 'u0144', 'u0397', 'u0406', 'u0416', 'u0482', 'u0504', 'u0534', 'u0566', 'u0645', 'u0066', 'u0180', 'u0263', 'u0306', 'u0405', 'u0472', 'u0479', 'u0558', 'u0665', 'u0694', 'u0008', 'u0102', 'u0138', 'u0156', 'u0216', 'u0276', 'u0392', 'u0414', 'u0659', 'u0753', 'u0159', 'u0174', 'u0290', 'u0354', 'u0377', 'u0394', 'u0661', 'u0733', 'u0780', 'u0112', 'u0114', 'u0130', 'u0329', 'u0426', 'u0455', 'u0468', 'u0588', 'u0696', 'u0217', 'u0277', 'u0341', 'u0497', 'u0513', 'u0539', 'u0595', 'u0618', 'u0657', 'u0709', 'u0005', 'u0431', 'u0654', 'u0050', 'u0117', 'u0199', 'u0206', 'u0278', 'u0510', 'u0520', 'u0619', 'u0637', 'u0769', 'u0001', 'u0384', 'u0734', 'u0544', 'u0567', 'u0656', 'u0745', 'u0110', 'u0201', 'u0337', 'u0373', 'u0737', 'u0741', 'u0214', 'u0344', 'u0410', 'u0440', 'u0500', 'u0562', 'u0614', 'u0627', 'u0631', 'u0743', 'u0143', 'u0262', 'u0398', 'u0447', 'u0561', 'u0593', 'u0629', 'u0049', 'u0150', 'u0226', 'u0228', 'u0319', 'u0330', 'u0483', 'u0672', 'u0033', 'u0106', 'u0301', 'u0311', 'u0382', 'u0415', 'u0473', 'u0678', 'u0750', 'u0127', 'u0157', 'u0250', 'u0317', 'u0357', 'u0399', 'u0460', 'u0043', 'u0068', 'u0171', 'u0179', 'u0245', 'u0257', 'u0342', 'u0527', 'u0703', 'u0007', 'u0322', 'u0487', 'u0563', 'u0620', 'u0664', 'u0736', 'u0305', 'u0307', 'u0389', 'u0444', 'u0445', 'u0536', 'u0552', 'u0589', 'u0724', 'u0731', 'u0045', 'u0165', 'u0192', 'u0205', 'u0340', 'u0465', 'u0564', 'u0608', 'u0714', 'u0754', 'u0015', 'u0023', 'u0048', 'u0175', 'u0224', 'u0436', 'u0442', 'u0515', 'u0590', 'u0680', 'u0024', 'u0074', 'u0146', 'u0247', 'u0267', 'u0328', 'u0517', 'u0609', 'u0636', 'u0699', 'u0610', 'u0022', 'u0299', 'u0324', 'u0586', 'u0622', 'u0676', 'u0685', 'u0708', 'u0717', 'u0757', 'u0239', 'u0254', 'u0296', 'u0309', 'u0385', 'u0488', 'u0518', 'u0553', 'u0606', 'u0129', 'u0183', 'u0303', 'u0404', 'u0722', 'u0062', 'u0084', 'u0121', 'u0331', 'u0409', 'u0669', 'u0681', 'u0712', 'u0749', 'u0770', 'u0039', 'u0142', 'u0167', 'u0173', 'u0193', 'u0308', 'u0538', 'u0650', 'u0677', 'u0729', 'u0037', 'u0116', 'u0149', 'u0321', 'u0358', 'u0363', 'u0427', 'u0546', 'u0574', 'u0596', 'u0036', 'u0081', 'u0177', 'u0188', 'u0212', 'u0326', 'u0339', 'u0469', 'u0767', 'u0158', 'u0219', 'u0287', 'u0350', 'u0491', 'u0644', 'u0658', 'u0697', 'u0718', 'u0318', 'u0571', 'u0109', 'u0266', 'u0381', 'u0020', 'u0041', 'u0073', 'u0107', 'u0141', 'u0166', 'u0181', 'u0494', 'u0570', 'u0078', 'u0265', 'u0365', 'u0366', 'u0499', 'u0671', 'u0691', 'u0003', 'u0017', 'u0047', 'u0125', 'u0134', 'u0312', 'u0587', 'u0713', 'u0541', 'u0025', 'u0055', 'u0196', 'u0253', 'u0271', 'u0368', 'u0418', 'u0438', 'u0529', 'u0594', 'u0083', 'u0085', 'u0348', 'u0493', 'u0502', 'u0577', 'u0582', 'u0762', 'u0056', 'u0079', 'u0140', 'u0376', 'u0403', 'u0519', 'u0612', 'u0648', 'u0653', 'u0695', 'u0268', 'u0554', 'u0742', 'u0063', 'u0096', 'u0169', 'u0238', 'u0259', 'u0269', 'u0281', 'u0371', 'u0474', 'u0638', 'u0225', 'u0362', 'u0400', 'u0503', 'u0605', 'u0655', 'u0660', 'u0689', 'u0747', 'u0530', 'u0547', 'u0739', 'u0759', 'u0103', 'u0126', 'u0209', 'u0220', 'u0434', 'u0435', 'u0635', 'u0702']\n",
      "encoded ID_User :  {'u0035': 0, 'u0057': 1, 'u0293': 2, 'u0297': 3, 'u0349': 4, 'u0356': 5, 'u0531': 6, 'u0542': 7, 'u0640': 8, 'u0641': 9, 'u0016': 10, 'u0027': 11, 'u0060': 12, 'u0088': 13, 'u0288': 14, 'u0355': 15, 'u0514': 16, 'u0516': 17, 'u0617': 18, 'u0626': 19, 'u0028': 20, 'u0137': 21, 'u0335': 22, 'u0338': 23, 'u0360': 24, 'u0364': 25, 'u0467': 26, 'u0684': 27, 'u0701': 28, 'u0758': 29, 'u0026': 30, 'u0051': 31, 'u0133': 32, 'u0186': 33, 'u0251': 34, 'u0292': 35, 'u0379': 36, 'u0449': 37, 'u0721': 38, 'u0723': 39, 'u0090': 40, 'u0197': 41, 'u0223': 42, 'u0320': 43, 'u0439': 44, 'u0456': 45, 'u0557': 46, 'u0568': 47, 'u0673': 48, 'u0145': 49, 'u0230': 50, 'u0327': 51, 'u0383': 52, 'u0480': 53, 'u0643': 54, 'u0675': 55, 'u0686': 56, 'u0698': 57, 'u0010': 58, 'u0152': 59, 'u0182': 60, 'u0333': 61, 'u0345': 62, 'u0359': 63, 'u0437': 64, 'u0481': 65, 'u0484': 66, 'u0548': 67, 'u0032': 68, 'u0233': 69, 'u0258': 70, 'u0272': 71, 'u0390': 72, 'u0401': 73, 'u0475': 74, 'u0573': 75, 'u0720': 76, 'u0760': 77, 'u0021': 78, 'u0046': 79, 'u0054': 80, 'u0119': 81, 'u0422': 82, 'u0490': 83, 'u0533': 84, 'u0581': 85, 'u0682': 86, 'u0716': 87, 'u0059': 88, 'u0154': 89, 'u0195': 90, 'u0289': 91, 'u0386': 92, 'u0463': 93, 'u0486': 94, 'u0559': 95, 'u0616': 96, 'u0773': 97, 'u0151': 98, 'u0185': 99, 'u0189': 100, 'u0229': 101, 'u0332': 102, 'u0380': 103, 'u0419': 104, 'u0457': 105, 'u0576': 106, 'u0623': 107, 'u0131': 108, 'u0202': 109, 'u0343': 110, 'u0370': 111, 'u0452': 112, 'u0462': 113, 'u0477': 114, 'u0649': 115, 'u0728': 116, 'u0002': 117, 'u0241': 118, 'u0336': 119, 'u0351': 120, 'u0651': 121, 'u0464': 122, 'u0730': 123, 'u0004': 124, 'u0018': 125, 'u0064': 126, 'u0087': 127, 'u0091': 128, 'u0111': 129, 'u0147': 130, 'u0294': 131, 'u0521': 132, 'u0732': 133, 'u0235': 134, 'u0284': 135, 'u0353': 136, 'u0395': 137, 'u0420': 138, 'u0501': 139, 'u0560': 140, 'u0604': 141, 'u0611': 142, 'u0735': 143, 'u0086': 144, 'u0104': 145, 'u0448': 146, 'u0236': 147, 'u0693': 148, 'u0378': 149, 'u0528': 150, 'u0668': 151, 'u0132': 152, 'u0252': 153, 'u0286': 154, 'u0346': 155, 'u0393': 156, 'u0485': 157, 'u0540': 158, 'u0044': 159, 'u0115': 160, 'u0323': 161, 'u0433': 162, 'u0498': 163, 'u0572': 164, 'u0607': 165, 'u0746': 166, 'u0765': 167, 'u0778': 168, 'u0082': 169, 'u0162': 170, 'u0249': 171, 'u0261': 172, 'u0283': 173, 'u0446': 174, 'u0451': 175, 'u0569': 176, 'u0624': 177, 'u0706': 178, 'u0058': 179, 'u0207': 180, 'u0213': 181, 'u0243': 182, 'u0402': 183, 'u0489': 184, 'u0543': 185, 'u0639': 186, 'u0726': 187, 'u0775': 188, 'u0231': 189, 'u0310': 190, 'u0072': 191, 'u0099': 192, 'u0168': 193, 'u0347': 194, 'u0352': 195, 'u0478': 196, 'u0495': 197, 'u0505': 198, 'u0683': 199, 'u0776': 200, 'u0065': 201, 'u0075': 202, 'u0369': 203, 'u0408': 204, 'u0432': 205, 'u0545': 206, 'u0599': 207, 'u0690': 208, 'u0719': 209, 'u0744': 210, 'u0014': 211, 'u0030': 212, 'u0089': 213, 'u0105': 214, 'u0135': 215, 'u0295': 216, 'u0430': 217, 'u0565': 218, 'u0630': 219, 'u0670': 220, 'u0077': 221, 'u0093': 222, 'u0211': 223, 'u0234': 224, 'u0237': 225, 'u0506': 226, 'u0603': 227, 'u0704': 228, 'u0725': 229, 'u0029': 230, 'u0218': 231, 'u0232': 232, 'u0300': 233, 'u0413': 234, 'u0580': 235, 'u0591': 236, 'u0710': 237, 'u0755': 238, 'u0764': 239, 'u0042': 240, 'u0097': 241, 'u0118': 242, 'u0136': 243, 'u0164': 244, 'u0298': 245, 'u0313': 246, 'u0496': 247, 'u0551': 248, 'u0600': 249, 'u0621': 250, 'u0100': 251, 'u0203': 252, 'u0325': 253, 'u0411': 254, 'u0012': 255, 'u0067': 256, 'u0221': 257, 'u0315': 258, 'u0550': 259, 'u0646': 260, 'u0652': 261, 'u0679': 262, 'u0705': 263, 'u0740': 264, 'u0375': 265, 'u0031': 266, 'u0120': 267, 'u0128': 268, 'u0532': 269, 'u0597': 270, 'u0071': 271, 'u0421': 272, 'u0429': 273, 'u0715': 274, 'u0098': 275, 'u0123': 276, 'u0160': 277, 'u0187': 278, 'u0215': 279, 'u0240': 280, 'u0275': 281, 'u0282': 282, 'u0461': 283, 'u0781': 284, 'u0361': 285, 'u0453': 286, 'u0454': 287, 'u0549': 288, 'u0583': 289, 'u0592': 290, 'u0601': 291, 'u0692': 292, 'u0748': 293, 'u0768': 294, 'u0052': 295, 'u0108': 296, 'u0204': 297, 'u0222': 298, 'u0511': 299, 'u0662': 300, 'u0666': 301, 'u0674': 302, 'u0707': 303, 'u0751': 304, 'u0148': 305, 'u0172': 306, 'u0244': 307, 'u0470': 308, 'u0492': 309, 'u0633': 310, 'u0634': 311, 'u0763': 312, 'u0766': 313, 'u0772': 314, 'u0006': 315, 'u0122': 316, 'u0428': 317, 'u0013': 318, 'u0034': 319, 'u0080': 320, 'u0092': 321, 'u0153': 322, 'u0155': 323, 'u0161': 324, 'u0163': 325, 'u0441': 326, 'u0524': 327, 'u0069': 328, 'u0248': 329, 'u0412': 330, 'u0417': 331, 'u0424': 332, 'u0526': 333, 'u0585': 334, 'u0700': 335, 'u0738': 336, 'u0752': 337, 'u0009': 338, 'u0038': 339, 'u0076': 340, 'u0178': 341, 'u0210': 342, 'u0280': 343, 'u0471': 344, 'u0476': 345, 'u0761': 346, 'u0771': 347, 'u0191': 348, 'u0372': 349, 'u0387': 350, 'u0525': 351, 'u0537': 352, 'u0575': 353, 'u0628': 354, 'u0632': 355, 'u0647': 356, 'u0779': 357, 'u0184': 358, 'u0242': 359, 'u0285': 360, 'u0314': 361, 'u0374': 362, 'u0388': 363, 'u0466': 364, 'u0509': 365, 'u0523': 366, 'u0615': 367, 'u0040': 368, 'u0139': 369, 'u0255': 370, 'u0256': 371, 'u0274': 372, 'u0450': 373, 'u0512': 374, 'u0613': 375, 'u0688': 376, 'u0101': 377, 'u0190': 378, 'u0200': 379, 'u0246': 380, 'u0334': 381, 'u0425': 382, 'u0584': 383, 'u0602': 384, 'u0667': 385, 'u0777': 386, 'u0095': 387, 'u0170': 388, 'u0227': 389, 'u0260': 390, 'u0273': 391, 'u0279': 392, 'u0304': 393, 'u0391': 394, 'u0507': 395, 'u0556': 396, 'u0019': 397, 'u0053': 398, 'u0094': 399, 'u0124': 400, 'u0270': 401, 'u0316': 402, 'u0396': 403, 'u0407': 404, 'u0458': 405, 'u0061': 406, 'u0198': 407, 'u0423': 408, 'u0555': 409, 'u0579': 410, 'u0687': 411, 'u0711': 412, 'u0774': 413, 'u0522': 414, 'u0598': 415, 'u0011': 416, 'u0113': 417, 'u0291': 418, 'u0367': 419, 'u0443': 420, 'u0459': 421, 'u0578': 422, 'u0625': 423, 'u0642': 424, 'u0663': 425, 'u0176': 426, 'u0194': 427, 'u0208': 428, 'u0264': 429, 'u0302': 430, 'u0508': 431, 'u0535': 432, 'u0727': 433, 'u0756': 434, 'u0070': 435, 'u0144': 436, 'u0397': 437, 'u0406': 438, 'u0416': 439, 'u0482': 440, 'u0504': 441, 'u0534': 442, 'u0566': 443, 'u0645': 444, 'u0066': 445, 'u0180': 446, 'u0263': 447, 'u0306': 448, 'u0405': 449, 'u0472': 450, 'u0479': 451, 'u0558': 452, 'u0665': 453, 'u0694': 454, 'u0008': 455, 'u0102': 456, 'u0138': 457, 'u0156': 458, 'u0216': 459, 'u0276': 460, 'u0392': 461, 'u0414': 462, 'u0659': 463, 'u0753': 464, 'u0159': 465, 'u0174': 466, 'u0290': 467, 'u0354': 468, 'u0377': 469, 'u0394': 470, 'u0661': 471, 'u0733': 472, 'u0780': 473, 'u0112': 474, 'u0114': 475, 'u0130': 476, 'u0329': 477, 'u0426': 478, 'u0455': 479, 'u0468': 480, 'u0588': 481, 'u0696': 482, 'u0217': 483, 'u0277': 484, 'u0341': 485, 'u0497': 486, 'u0513': 487, 'u0539': 488, 'u0595': 489, 'u0618': 490, 'u0657': 491, 'u0709': 492, 'u0005': 493, 'u0431': 494, 'u0654': 495, 'u0050': 496, 'u0117': 497, 'u0199': 498, 'u0206': 499, 'u0278': 500, 'u0510': 501, 'u0520': 502, 'u0619': 503, 'u0637': 504, 'u0769': 505, 'u0001': 506, 'u0384': 507, 'u0734': 508, 'u0544': 509, 'u0567': 510, 'u0656': 511, 'u0745': 512, 'u0110': 513, 'u0201': 514, 'u0337': 515, 'u0373': 516, 'u0737': 517, 'u0741': 518, 'u0214': 519, 'u0344': 520, 'u0410': 521, 'u0440': 522, 'u0500': 523, 'u0562': 524, 'u0614': 525, 'u0627': 526, 'u0631': 527, 'u0743': 528, 'u0143': 529, 'u0262': 530, 'u0398': 531, 'u0447': 532, 'u0561': 533, 'u0593': 534, 'u0629': 535, 'u0049': 536, 'u0150': 537, 'u0226': 538, 'u0228': 539, 'u0319': 540, 'u0330': 541, 'u0483': 542, 'u0672': 543, 'u0033': 544, 'u0106': 545, 'u0301': 546, 'u0311': 547, 'u0382': 548, 'u0415': 549, 'u0473': 550, 'u0678': 551, 'u0750': 552, 'u0127': 553, 'u0157': 554, 'u0250': 555, 'u0317': 556, 'u0357': 557, 'u0399': 558, 'u0460': 559, 'u0043': 560, 'u0068': 561, 'u0171': 562, 'u0179': 563, 'u0245': 564, 'u0257': 565, 'u0342': 566, 'u0527': 567, 'u0703': 568, 'u0007': 569, 'u0322': 570, 'u0487': 571, 'u0563': 572, 'u0620': 573, 'u0664': 574, 'u0736': 575, 'u0305': 576, 'u0307': 577, 'u0389': 578, 'u0444': 579, 'u0445': 580, 'u0536': 581, 'u0552': 582, 'u0589': 583, 'u0724': 584, 'u0731': 585, 'u0045': 586, 'u0165': 587, 'u0192': 588, 'u0205': 589, 'u0340': 590, 'u0465': 591, 'u0564': 592, 'u0608': 593, 'u0714': 594, 'u0754': 595, 'u0015': 596, 'u0023': 597, 'u0048': 598, 'u0175': 599, 'u0224': 600, 'u0436': 601, 'u0442': 602, 'u0515': 603, 'u0590': 604, 'u0680': 605, 'u0024': 606, 'u0074': 607, 'u0146': 608, 'u0247': 609, 'u0267': 610, 'u0328': 611, 'u0517': 612, 'u0609': 613, 'u0636': 614, 'u0699': 615, 'u0610': 616, 'u0022': 617, 'u0299': 618, 'u0324': 619, 'u0586': 620, 'u0622': 621, 'u0676': 622, 'u0685': 623, 'u0708': 624, 'u0717': 625, 'u0757': 626, 'u0239': 627, 'u0254': 628, 'u0296': 629, 'u0309': 630, 'u0385': 631, 'u0488': 632, 'u0518': 633, 'u0553': 634, 'u0606': 635, 'u0129': 636, 'u0183': 637, 'u0303': 638, 'u0404': 639, 'u0722': 640, 'u0062': 641, 'u0084': 642, 'u0121': 643, 'u0331': 644, 'u0409': 645, 'u0669': 646, 'u0681': 647, 'u0712': 648, 'u0749': 649, 'u0770': 650, 'u0039': 651, 'u0142': 652, 'u0167': 653, 'u0173': 654, 'u0193': 655, 'u0308': 656, 'u0538': 657, 'u0650': 658, 'u0677': 659, 'u0729': 660, 'u0037': 661, 'u0116': 662, 'u0149': 663, 'u0321': 664, 'u0358': 665, 'u0363': 666, 'u0427': 667, 'u0546': 668, 'u0574': 669, 'u0596': 670, 'u0036': 671, 'u0081': 672, 'u0177': 673, 'u0188': 674, 'u0212': 675, 'u0326': 676, 'u0339': 677, 'u0469': 678, 'u0767': 679, 'u0158': 680, 'u0219': 681, 'u0287': 682, 'u0350': 683, 'u0491': 684, 'u0644': 685, 'u0658': 686, 'u0697': 687, 'u0718': 688, 'u0318': 689, 'u0571': 690, 'u0109': 691, 'u0266': 692, 'u0381': 693, 'u0020': 694, 'u0041': 695, 'u0073': 696, 'u0107': 697, 'u0141': 698, 'u0166': 699, 'u0181': 700, 'u0494': 701, 'u0570': 702, 'u0078': 703, 'u0265': 704, 'u0365': 705, 'u0366': 706, 'u0499': 707, 'u0671': 708, 'u0691': 709, 'u0003': 710, 'u0017': 711, 'u0047': 712, 'u0125': 713, 'u0134': 714, 'u0312': 715, 'u0587': 716, 'u0713': 717, 'u0541': 718, 'u0025': 719, 'u0055': 720, 'u0196': 721, 'u0253': 722, 'u0271': 723, 'u0368': 724, 'u0418': 725, 'u0438': 726, 'u0529': 727, 'u0594': 728, 'u0083': 729, 'u0085': 730, 'u0348': 731, 'u0493': 732, 'u0502': 733, 'u0577': 734, 'u0582': 735, 'u0762': 736, 'u0056': 737, 'u0079': 738, 'u0140': 739, 'u0376': 740, 'u0403': 741, 'u0519': 742, 'u0612': 743, 'u0648': 744, 'u0653': 745, 'u0695': 746, 'u0268': 747, 'u0554': 748, 'u0742': 749, 'u0063': 750, 'u0096': 751, 'u0169': 752, 'u0238': 753, 'u0259': 754, 'u0269': 755, 'u0281': 756, 'u0371': 757, 'u0474': 758, 'u0638': 759, 'u0225': 760, 'u0362': 761, 'u0400': 762, 'u0503': 763, 'u0605': 764, 'u0655': 765, 'u0660': 766, 'u0689': 767, 'u0747': 768, 'u0530': 769, 'u0547': 770, 'u0739': 771, 'u0759': 772, 'u0103': 773, 'u0126': 774, 'u0209': 775, 'u0220': 776, 'u0434': 777, 'u0435': 778, 'u0635': 779, 'u0702': 780}\n",
      "encoded angka ke ID_User:  {0: 'u0035', 1: 'u0057', 2: 'u0293', 3: 'u0297', 4: 'u0349', 5: 'u0356', 6: 'u0531', 7: 'u0542', 8: 'u0640', 9: 'u0641', 10: 'u0016', 11: 'u0027', 12: 'u0060', 13: 'u0088', 14: 'u0288', 15: 'u0355', 16: 'u0514', 17: 'u0516', 18: 'u0617', 19: 'u0626', 20: 'u0028', 21: 'u0137', 22: 'u0335', 23: 'u0338', 24: 'u0360', 25: 'u0364', 26: 'u0467', 27: 'u0684', 28: 'u0701', 29: 'u0758', 30: 'u0026', 31: 'u0051', 32: 'u0133', 33: 'u0186', 34: 'u0251', 35: 'u0292', 36: 'u0379', 37: 'u0449', 38: 'u0721', 39: 'u0723', 40: 'u0090', 41: 'u0197', 42: 'u0223', 43: 'u0320', 44: 'u0439', 45: 'u0456', 46: 'u0557', 47: 'u0568', 48: 'u0673', 49: 'u0145', 50: 'u0230', 51: 'u0327', 52: 'u0383', 53: 'u0480', 54: 'u0643', 55: 'u0675', 56: 'u0686', 57: 'u0698', 58: 'u0010', 59: 'u0152', 60: 'u0182', 61: 'u0333', 62: 'u0345', 63: 'u0359', 64: 'u0437', 65: 'u0481', 66: 'u0484', 67: 'u0548', 68: 'u0032', 69: 'u0233', 70: 'u0258', 71: 'u0272', 72: 'u0390', 73: 'u0401', 74: 'u0475', 75: 'u0573', 76: 'u0720', 77: 'u0760', 78: 'u0021', 79: 'u0046', 80: 'u0054', 81: 'u0119', 82: 'u0422', 83: 'u0490', 84: 'u0533', 85: 'u0581', 86: 'u0682', 87: 'u0716', 88: 'u0059', 89: 'u0154', 90: 'u0195', 91: 'u0289', 92: 'u0386', 93: 'u0463', 94: 'u0486', 95: 'u0559', 96: 'u0616', 97: 'u0773', 98: 'u0151', 99: 'u0185', 100: 'u0189', 101: 'u0229', 102: 'u0332', 103: 'u0380', 104: 'u0419', 105: 'u0457', 106: 'u0576', 107: 'u0623', 108: 'u0131', 109: 'u0202', 110: 'u0343', 111: 'u0370', 112: 'u0452', 113: 'u0462', 114: 'u0477', 115: 'u0649', 116: 'u0728', 117: 'u0002', 118: 'u0241', 119: 'u0336', 120: 'u0351', 121: 'u0651', 122: 'u0464', 123: 'u0730', 124: 'u0004', 125: 'u0018', 126: 'u0064', 127: 'u0087', 128: 'u0091', 129: 'u0111', 130: 'u0147', 131: 'u0294', 132: 'u0521', 133: 'u0732', 134: 'u0235', 135: 'u0284', 136: 'u0353', 137: 'u0395', 138: 'u0420', 139: 'u0501', 140: 'u0560', 141: 'u0604', 142: 'u0611', 143: 'u0735', 144: 'u0086', 145: 'u0104', 146: 'u0448', 147: 'u0236', 148: 'u0693', 149: 'u0378', 150: 'u0528', 151: 'u0668', 152: 'u0132', 153: 'u0252', 154: 'u0286', 155: 'u0346', 156: 'u0393', 157: 'u0485', 158: 'u0540', 159: 'u0044', 160: 'u0115', 161: 'u0323', 162: 'u0433', 163: 'u0498', 164: 'u0572', 165: 'u0607', 166: 'u0746', 167: 'u0765', 168: 'u0778', 169: 'u0082', 170: 'u0162', 171: 'u0249', 172: 'u0261', 173: 'u0283', 174: 'u0446', 175: 'u0451', 176: 'u0569', 177: 'u0624', 178: 'u0706', 179: 'u0058', 180: 'u0207', 181: 'u0213', 182: 'u0243', 183: 'u0402', 184: 'u0489', 185: 'u0543', 186: 'u0639', 187: 'u0726', 188: 'u0775', 189: 'u0231', 190: 'u0310', 191: 'u0072', 192: 'u0099', 193: 'u0168', 194: 'u0347', 195: 'u0352', 196: 'u0478', 197: 'u0495', 198: 'u0505', 199: 'u0683', 200: 'u0776', 201: 'u0065', 202: 'u0075', 203: 'u0369', 204: 'u0408', 205: 'u0432', 206: 'u0545', 207: 'u0599', 208: 'u0690', 209: 'u0719', 210: 'u0744', 211: 'u0014', 212: 'u0030', 213: 'u0089', 214: 'u0105', 215: 'u0135', 216: 'u0295', 217: 'u0430', 218: 'u0565', 219: 'u0630', 220: 'u0670', 221: 'u0077', 222: 'u0093', 223: 'u0211', 224: 'u0234', 225: 'u0237', 226: 'u0506', 227: 'u0603', 228: 'u0704', 229: 'u0725', 230: 'u0029', 231: 'u0218', 232: 'u0232', 233: 'u0300', 234: 'u0413', 235: 'u0580', 236: 'u0591', 237: 'u0710', 238: 'u0755', 239: 'u0764', 240: 'u0042', 241: 'u0097', 242: 'u0118', 243: 'u0136', 244: 'u0164', 245: 'u0298', 246: 'u0313', 247: 'u0496', 248: 'u0551', 249: 'u0600', 250: 'u0621', 251: 'u0100', 252: 'u0203', 253: 'u0325', 254: 'u0411', 255: 'u0012', 256: 'u0067', 257: 'u0221', 258: 'u0315', 259: 'u0550', 260: 'u0646', 261: 'u0652', 262: 'u0679', 263: 'u0705', 264: 'u0740', 265: 'u0375', 266: 'u0031', 267: 'u0120', 268: 'u0128', 269: 'u0532', 270: 'u0597', 271: 'u0071', 272: 'u0421', 273: 'u0429', 274: 'u0715', 275: 'u0098', 276: 'u0123', 277: 'u0160', 278: 'u0187', 279: 'u0215', 280: 'u0240', 281: 'u0275', 282: 'u0282', 283: 'u0461', 284: 'u0781', 285: 'u0361', 286: 'u0453', 287: 'u0454', 288: 'u0549', 289: 'u0583', 290: 'u0592', 291: 'u0601', 292: 'u0692', 293: 'u0748', 294: 'u0768', 295: 'u0052', 296: 'u0108', 297: 'u0204', 298: 'u0222', 299: 'u0511', 300: 'u0662', 301: 'u0666', 302: 'u0674', 303: 'u0707', 304: 'u0751', 305: 'u0148', 306: 'u0172', 307: 'u0244', 308: 'u0470', 309: 'u0492', 310: 'u0633', 311: 'u0634', 312: 'u0763', 313: 'u0766', 314: 'u0772', 315: 'u0006', 316: 'u0122', 317: 'u0428', 318: 'u0013', 319: 'u0034', 320: 'u0080', 321: 'u0092', 322: 'u0153', 323: 'u0155', 324: 'u0161', 325: 'u0163', 326: 'u0441', 327: 'u0524', 328: 'u0069', 329: 'u0248', 330: 'u0412', 331: 'u0417', 332: 'u0424', 333: 'u0526', 334: 'u0585', 335: 'u0700', 336: 'u0738', 337: 'u0752', 338: 'u0009', 339: 'u0038', 340: 'u0076', 341: 'u0178', 342: 'u0210', 343: 'u0280', 344: 'u0471', 345: 'u0476', 346: 'u0761', 347: 'u0771', 348: 'u0191', 349: 'u0372', 350: 'u0387', 351: 'u0525', 352: 'u0537', 353: 'u0575', 354: 'u0628', 355: 'u0632', 356: 'u0647', 357: 'u0779', 358: 'u0184', 359: 'u0242', 360: 'u0285', 361: 'u0314', 362: 'u0374', 363: 'u0388', 364: 'u0466', 365: 'u0509', 366: 'u0523', 367: 'u0615', 368: 'u0040', 369: 'u0139', 370: 'u0255', 371: 'u0256', 372: 'u0274', 373: 'u0450', 374: 'u0512', 375: 'u0613', 376: 'u0688', 377: 'u0101', 378: 'u0190', 379: 'u0200', 380: 'u0246', 381: 'u0334', 382: 'u0425', 383: 'u0584', 384: 'u0602', 385: 'u0667', 386: 'u0777', 387: 'u0095', 388: 'u0170', 389: 'u0227', 390: 'u0260', 391: 'u0273', 392: 'u0279', 393: 'u0304', 394: 'u0391', 395: 'u0507', 396: 'u0556', 397: 'u0019', 398: 'u0053', 399: 'u0094', 400: 'u0124', 401: 'u0270', 402: 'u0316', 403: 'u0396', 404: 'u0407', 405: 'u0458', 406: 'u0061', 407: 'u0198', 408: 'u0423', 409: 'u0555', 410: 'u0579', 411: 'u0687', 412: 'u0711', 413: 'u0774', 414: 'u0522', 415: 'u0598', 416: 'u0011', 417: 'u0113', 418: 'u0291', 419: 'u0367', 420: 'u0443', 421: 'u0459', 422: 'u0578', 423: 'u0625', 424: 'u0642', 425: 'u0663', 426: 'u0176', 427: 'u0194', 428: 'u0208', 429: 'u0264', 430: 'u0302', 431: 'u0508', 432: 'u0535', 433: 'u0727', 434: 'u0756', 435: 'u0070', 436: 'u0144', 437: 'u0397', 438: 'u0406', 439: 'u0416', 440: 'u0482', 441: 'u0504', 442: 'u0534', 443: 'u0566', 444: 'u0645', 445: 'u0066', 446: 'u0180', 447: 'u0263', 448: 'u0306', 449: 'u0405', 450: 'u0472', 451: 'u0479', 452: 'u0558', 453: 'u0665', 454: 'u0694', 455: 'u0008', 456: 'u0102', 457: 'u0138', 458: 'u0156', 459: 'u0216', 460: 'u0276', 461: 'u0392', 462: 'u0414', 463: 'u0659', 464: 'u0753', 465: 'u0159', 466: 'u0174', 467: 'u0290', 468: 'u0354', 469: 'u0377', 470: 'u0394', 471: 'u0661', 472: 'u0733', 473: 'u0780', 474: 'u0112', 475: 'u0114', 476: 'u0130', 477: 'u0329', 478: 'u0426', 479: 'u0455', 480: 'u0468', 481: 'u0588', 482: 'u0696', 483: 'u0217', 484: 'u0277', 485: 'u0341', 486: 'u0497', 487: 'u0513', 488: 'u0539', 489: 'u0595', 490: 'u0618', 491: 'u0657', 492: 'u0709', 493: 'u0005', 494: 'u0431', 495: 'u0654', 496: 'u0050', 497: 'u0117', 498: 'u0199', 499: 'u0206', 500: 'u0278', 501: 'u0510', 502: 'u0520', 503: 'u0619', 504: 'u0637', 505: 'u0769', 506: 'u0001', 507: 'u0384', 508: 'u0734', 509: 'u0544', 510: 'u0567', 511: 'u0656', 512: 'u0745', 513: 'u0110', 514: 'u0201', 515: 'u0337', 516: 'u0373', 517: 'u0737', 518: 'u0741', 519: 'u0214', 520: 'u0344', 521: 'u0410', 522: 'u0440', 523: 'u0500', 524: 'u0562', 525: 'u0614', 526: 'u0627', 527: 'u0631', 528: 'u0743', 529: 'u0143', 530: 'u0262', 531: 'u0398', 532: 'u0447', 533: 'u0561', 534: 'u0593', 535: 'u0629', 536: 'u0049', 537: 'u0150', 538: 'u0226', 539: 'u0228', 540: 'u0319', 541: 'u0330', 542: 'u0483', 543: 'u0672', 544: 'u0033', 545: 'u0106', 546: 'u0301', 547: 'u0311', 548: 'u0382', 549: 'u0415', 550: 'u0473', 551: 'u0678', 552: 'u0750', 553: 'u0127', 554: 'u0157', 555: 'u0250', 556: 'u0317', 557: 'u0357', 558: 'u0399', 559: 'u0460', 560: 'u0043', 561: 'u0068', 562: 'u0171', 563: 'u0179', 564: 'u0245', 565: 'u0257', 566: 'u0342', 567: 'u0527', 568: 'u0703', 569: 'u0007', 570: 'u0322', 571: 'u0487', 572: 'u0563', 573: 'u0620', 574: 'u0664', 575: 'u0736', 576: 'u0305', 577: 'u0307', 578: 'u0389', 579: 'u0444', 580: 'u0445', 581: 'u0536', 582: 'u0552', 583: 'u0589', 584: 'u0724', 585: 'u0731', 586: 'u0045', 587: 'u0165', 588: 'u0192', 589: 'u0205', 590: 'u0340', 591: 'u0465', 592: 'u0564', 593: 'u0608', 594: 'u0714', 595: 'u0754', 596: 'u0015', 597: 'u0023', 598: 'u0048', 599: 'u0175', 600: 'u0224', 601: 'u0436', 602: 'u0442', 603: 'u0515', 604: 'u0590', 605: 'u0680', 606: 'u0024', 607: 'u0074', 608: 'u0146', 609: 'u0247', 610: 'u0267', 611: 'u0328', 612: 'u0517', 613: 'u0609', 614: 'u0636', 615: 'u0699', 616: 'u0610', 617: 'u0022', 618: 'u0299', 619: 'u0324', 620: 'u0586', 621: 'u0622', 622: 'u0676', 623: 'u0685', 624: 'u0708', 625: 'u0717', 626: 'u0757', 627: 'u0239', 628: 'u0254', 629: 'u0296', 630: 'u0309', 631: 'u0385', 632: 'u0488', 633: 'u0518', 634: 'u0553', 635: 'u0606', 636: 'u0129', 637: 'u0183', 638: 'u0303', 639: 'u0404', 640: 'u0722', 641: 'u0062', 642: 'u0084', 643: 'u0121', 644: 'u0331', 645: 'u0409', 646: 'u0669', 647: 'u0681', 648: 'u0712', 649: 'u0749', 650: 'u0770', 651: 'u0039', 652: 'u0142', 653: 'u0167', 654: 'u0173', 655: 'u0193', 656: 'u0308', 657: 'u0538', 658: 'u0650', 659: 'u0677', 660: 'u0729', 661: 'u0037', 662: 'u0116', 663: 'u0149', 664: 'u0321', 665: 'u0358', 666: 'u0363', 667: 'u0427', 668: 'u0546', 669: 'u0574', 670: 'u0596', 671: 'u0036', 672: 'u0081', 673: 'u0177', 674: 'u0188', 675: 'u0212', 676: 'u0326', 677: 'u0339', 678: 'u0469', 679: 'u0767', 680: 'u0158', 681: 'u0219', 682: 'u0287', 683: 'u0350', 684: 'u0491', 685: 'u0644', 686: 'u0658', 687: 'u0697', 688: 'u0718', 689: 'u0318', 690: 'u0571', 691: 'u0109', 692: 'u0266', 693: 'u0381', 694: 'u0020', 695: 'u0041', 696: 'u0073', 697: 'u0107', 698: 'u0141', 699: 'u0166', 700: 'u0181', 701: 'u0494', 702: 'u0570', 703: 'u0078', 704: 'u0265', 705: 'u0365', 706: 'u0366', 707: 'u0499', 708: 'u0671', 709: 'u0691', 710: 'u0003', 711: 'u0017', 712: 'u0047', 713: 'u0125', 714: 'u0134', 715: 'u0312', 716: 'u0587', 717: 'u0713', 718: 'u0541', 719: 'u0025', 720: 'u0055', 721: 'u0196', 722: 'u0253', 723: 'u0271', 724: 'u0368', 725: 'u0418', 726: 'u0438', 727: 'u0529', 728: 'u0594', 729: 'u0083', 730: 'u0085', 731: 'u0348', 732: 'u0493', 733: 'u0502', 734: 'u0577', 735: 'u0582', 736: 'u0762', 737: 'u0056', 738: 'u0079', 739: 'u0140', 740: 'u0376', 741: 'u0403', 742: 'u0519', 743: 'u0612', 744: 'u0648', 745: 'u0653', 746: 'u0695', 747: 'u0268', 748: 'u0554', 749: 'u0742', 750: 'u0063', 751: 'u0096', 752: 'u0169', 753: 'u0238', 754: 'u0259', 755: 'u0269', 756: 'u0281', 757: 'u0371', 758: 'u0474', 759: 'u0638', 760: 'u0225', 761: 'u0362', 762: 'u0400', 763: 'u0503', 764: 'u0605', 765: 'u0655', 766: 'u0660', 767: 'u0689', 768: 'u0747', 769: 'u0530', 770: 'u0547', 771: 'u0739', 772: 'u0759', 773: 'u0103', 774: 'u0126', 775: 'u0209', 776: 'u0220', 777: 'u0434', 778: 'u0435', 779: 'u0635', 780: 'u0702'}\n"
     ]
    }
   ],
   "source": [
    "# Mengubah ID_User menjadi list tanpa nilai yang sama\n",
    "user_ids = mydata['ID_User'].unique().tolist()\n",
    "print('list ID_User: ', user_ids)\n",
    " \n",
    "# Melakukan encoding ID_User\n",
    "user_to_user_encoded = {x: i for i, x in enumerate(user_ids)}\n",
    "print('encoded ID_User : ', user_to_user_encoded)\n",
    " \n",
    "# Melakukan proses encoding angka ke ke ID_User\n",
    "user_encoded_to_user = {i: x for i, x in enumerate(user_ids)}\n",
    "print('encoded angka ke ID_User: ', user_encoded_to_user)"
   ]
  },
  {
   "cell_type": "code",
   "execution_count": 12,
   "metadata": {
    "id": "cqrTKOamWp1f"
   },
   "outputs": [],
   "source": [
    "# Mengubah ID_Tempat menjadi list tanpa nilai yang sama\n",
    "tempat_ids = mydata['ID_Tempat'].unique().tolist()\n",
    " \n",
    "# Melakukan proses encoding ID_Tempat\n",
    "tempat_to_tempat_encoded = {x: i for i, x in enumerate(tempat_ids)}\n",
    " \n",
    "# Melakukan proses encoding angka ke ID_Tempat\n",
    "tempat_encoded_to_tempat = {i: x for i, x in enumerate(tempat_ids)}\n",
    " \n",
    "# Selanjutnya, petakan ID_User dan ID_Tempat ke dataframe yang berkaitan.\n",
    " \n",
    "# Mapping ID_User ke dataframe user\n",
    "mydata['Nama_User'] = mydata['ID_User'].map(user_to_user_encoded)\n",
    " \n",
    "# Mapping ID_Tempat ke dataframe tempat\n",
    "mydata['Nama_Tempat'] = mydata['ID_Tempat'].map(tempat_to_tempat_encoded)"
   ]
  },
  {
   "cell_type": "code",
   "execution_count": 13,
   "metadata": {
    "colab": {
     "base_uri": "https://localhost:8080/"
    },
    "id": "uVIeAxRZfLWz",
    "outputId": "cb05db62-6435-444b-e7a8-4e1a938747a4"
   },
   "outputs": [
    {
     "name": "stdout",
     "output_type": "stream",
     "text": [
      "781\n",
      "100\n",
      "Number of User: 781, Number of Tempat: 100, Min Rating: 1.0, Max Rating: 5.0\n"
     ]
    }
   ],
   "source": [
    "# Mendapatkan jumlah user\n",
    "num_users = len(user_to_user_encoded)\n",
    "print(num_users)\n",
    " \n",
    "# Mendapatkan jumlah tempat\n",
    "num_tempat = len(tempat_encoded_to_tempat)\n",
    "print(num_tempat)\n",
    " \n",
    "# Mengubah rating menjadi nilai float\n",
    "mydata['Rating'] = mydata['Rating'].values.astype(np.float32)\n",
    " \n",
    "# Nilai minimum rating\n",
    "min_rating = min(mydata['Rating'])\n",
    " \n",
    "# Nilai maksimal rating\n",
    "max_rating = max(mydata['Rating'])\n",
    " \n",
    "print('Number of User: {}, Number of Tempat: {}, Min Rating: {}, Max Rating: {}'.format(\n",
    "    num_users, num_tempat, min_rating, max_rating\n",
    "))"
   ]
  },
  {
   "cell_type": "markdown",
   "metadata": {
    "id": "eNIa5QmHfluS"
   },
   "source": [
    "### Membagi Data Untuk Data Training dan Validasi"
   ]
  },
  {
   "cell_type": "code",
   "execution_count": 14,
   "metadata": {
    "colab": {
     "base_uri": "https://localhost:8080/",
     "height": 424
    },
    "id": "9NbN9765fiaj",
    "outputId": "dba6f601-a4fe-4bd6-e63a-21206e928416"
   },
   "outputs": [
    {
     "data": {
      "text/html": [
       "<div>\n",
       "<style scoped>\n",
       "    .dataframe tbody tr th:only-of-type {\n",
       "        vertical-align: middle;\n",
       "    }\n",
       "\n",
       "    .dataframe tbody tr th {\n",
       "        vertical-align: top;\n",
       "    }\n",
       "\n",
       "    .dataframe thead th {\n",
       "        text-align: right;\n",
       "    }\n",
       "</style>\n",
       "<table border=\"1\" class=\"dataframe\">\n",
       "  <thead>\n",
       "    <tr style=\"text-align: right;\">\n",
       "      <th></th>\n",
       "      <th>ID_Tempat</th>\n",
       "      <th>Nama_Tempat</th>\n",
       "      <th>ID_User</th>\n",
       "      <th>Nama_User</th>\n",
       "      <th>Daerah</th>\n",
       "      <th>Latitude</th>\n",
       "      <th>Longitude</th>\n",
       "      <th>Rating</th>\n",
       "      <th>Telepon</th>\n",
       "    </tr>\n",
       "  </thead>\n",
       "  <tbody>\n",
       "    <tr>\n",
       "      <th>247</th>\n",
       "      <td>t0031</td>\n",
       "      <td>30</td>\n",
       "      <td>u0164</td>\n",
       "      <td>244</td>\n",
       "      <td>Denpsasar Timur</td>\n",
       "      <td>5</td>\n",
       "      <td>5</td>\n",
       "      <td>5.0</td>\n",
       "      <td>83117263509</td>\n",
       "    </tr>\n",
       "    <tr>\n",
       "      <th>589</th>\n",
       "      <td>t0073</td>\n",
       "      <td>72</td>\n",
       "      <td>u0007</td>\n",
       "      <td>569</td>\n",
       "      <td>Badung, Kuta</td>\n",
       "      <td>5</td>\n",
       "      <td>5</td>\n",
       "      <td>5.0</td>\n",
       "      <td>81236288555</td>\n",
       "    </tr>\n",
       "    <tr>\n",
       "      <th>227</th>\n",
       "      <td>t0028</td>\n",
       "      <td>27</td>\n",
       "      <td>u0234</td>\n",
       "      <td>224</td>\n",
       "      <td>Denpasar Timur</td>\n",
       "      <td>5</td>\n",
       "      <td>5</td>\n",
       "      <td>5.0</td>\n",
       "      <td>(0361) 34130</td>\n",
       "    </tr>\n",
       "    <tr>\n",
       "      <th>291</th>\n",
       "      <td>t0038</td>\n",
       "      <td>37</td>\n",
       "      <td>u0361</td>\n",
       "      <td>285</td>\n",
       "      <td>Denpasar Timur</td>\n",
       "      <td>5</td>\n",
       "      <td>5</td>\n",
       "      <td>5.0</td>\n",
       "      <td>85396939662</td>\n",
       "    </tr>\n",
       "    <tr>\n",
       "      <th>539</th>\n",
       "      <td>t0067</td>\n",
       "      <td>66</td>\n",
       "      <td>u0562</td>\n",
       "      <td>524</td>\n",
       "      <td>Denpasar</td>\n",
       "      <td>5</td>\n",
       "      <td>5</td>\n",
       "      <td>5.0</td>\n",
       "      <td>85847417989</td>\n",
       "    </tr>\n",
       "    <tr>\n",
       "      <th>...</th>\n",
       "      <td>...</td>\n",
       "      <td>...</td>\n",
       "      <td>...</td>\n",
       "      <td>...</td>\n",
       "      <td>...</td>\n",
       "      <td>...</td>\n",
       "      <td>...</td>\n",
       "      <td>...</td>\n",
       "      <td>...</td>\n",
       "    </tr>\n",
       "    <tr>\n",
       "      <th>71</th>\n",
       "      <td>t0008</td>\n",
       "      <td>7</td>\n",
       "      <td>u0233</td>\n",
       "      <td>69</td>\n",
       "      <td>Denpasar Selatan</td>\n",
       "      <td>5</td>\n",
       "      <td>5</td>\n",
       "      <td>5.0</td>\n",
       "      <td>87861187505</td>\n",
       "    </tr>\n",
       "    <tr>\n",
       "      <th>106</th>\n",
       "      <td>t0011</td>\n",
       "      <td>10</td>\n",
       "      <td>u0419</td>\n",
       "      <td>104</td>\n",
       "      <td>Denpasar Selatan</td>\n",
       "      <td>5</td>\n",
       "      <td>5</td>\n",
       "      <td>5.0</td>\n",
       "      <td>81236155803</td>\n",
       "    </tr>\n",
       "    <tr>\n",
       "      <th>270</th>\n",
       "      <td>t0034</td>\n",
       "      <td>33</td>\n",
       "      <td>u0375</td>\n",
       "      <td>265</td>\n",
       "      <td>Denpasar Timur</td>\n",
       "      <td>5</td>\n",
       "      <td>5</td>\n",
       "      <td>5.0</td>\n",
       "      <td>81999383447</td>\n",
       "    </tr>\n",
       "    <tr>\n",
       "      <th>435</th>\n",
       "      <td>t0053</td>\n",
       "      <td>52</td>\n",
       "      <td>u0663</td>\n",
       "      <td>425</td>\n",
       "      <td>Denpasar</td>\n",
       "      <td>5</td>\n",
       "      <td>5</td>\n",
       "      <td>5.0</td>\n",
       "      <td>811392791</td>\n",
       "    </tr>\n",
       "    <tr>\n",
       "      <th>102</th>\n",
       "      <td>t0011</td>\n",
       "      <td>10</td>\n",
       "      <td>u0189</td>\n",
       "      <td>100</td>\n",
       "      <td>Denpasar Selatan</td>\n",
       "      <td>3</td>\n",
       "      <td>3</td>\n",
       "      <td>3.0</td>\n",
       "      <td>81236155803</td>\n",
       "    </tr>\n",
       "  </tbody>\n",
       "</table>\n",
       "<p>813 rows × 9 columns</p>\n",
       "</div>"
      ],
      "text/plain": [
       "    ID_Tempat  Nama_Tempat ID_User  Nama_User            Daerah  Latitude  \\\n",
       "247     t0031           30   u0164        244   Denpsasar Timur         5   \n",
       "589     t0073           72   u0007        569      Badung, Kuta         5   \n",
       "227     t0028           27   u0234        224    Denpasar Timur         5   \n",
       "291     t0038           37   u0361        285    Denpasar Timur         5   \n",
       "539     t0067           66   u0562        524          Denpasar         5   \n",
       "..        ...          ...     ...        ...               ...       ...   \n",
       "71      t0008            7   u0233         69  Denpasar Selatan         5   \n",
       "106     t0011           10   u0419        104  Denpasar Selatan         5   \n",
       "270     t0034           33   u0375        265    Denpasar Timur         5   \n",
       "435     t0053           52   u0663        425          Denpasar         5   \n",
       "102     t0011           10   u0189        100  Denpasar Selatan         3   \n",
       "\n",
       "     Longitude  Rating       Telepon  \n",
       "247          5     5.0   83117263509  \n",
       "589          5     5.0   81236288555  \n",
       "227          5     5.0  (0361) 34130  \n",
       "291          5     5.0   85396939662  \n",
       "539          5     5.0   85847417989  \n",
       "..         ...     ...           ...  \n",
       "71           5     5.0   87861187505  \n",
       "106          5     5.0   81236155803  \n",
       "270          5     5.0   81999383447  \n",
       "435          5     5.0     811392791  \n",
       "102          3     3.0   81236155803  \n",
       "\n",
       "[813 rows x 9 columns]"
      ]
     },
     "execution_count": 14,
     "metadata": {},
     "output_type": "execute_result"
    }
   ],
   "source": [
    "# Mengacak dataset\n",
    "mydata = mydata.sample(frac=1, random_state=42)\n",
    "mydata"
   ]
  },
  {
   "cell_type": "code",
   "execution_count": 15,
   "metadata": {
    "colab": {
     "base_uri": "https://localhost:8080/"
    },
    "id": "9whCmbCEf5d6",
    "outputId": "2f2a3a10-722f-4252-8ff1-bd3011bfc122"
   },
   "outputs": [
    {
     "name": "stdout",
     "output_type": "stream",
     "text": [
      "[[244  30]\n",
      " [569  72]\n",
      " [224  27]\n",
      " ...\n",
      " [265  33]\n",
      " [425  52]\n",
      " [100  10]] [1.   1.   1.   1.   1.   0.75 1.   0.75 1.   0.75 1.   1.   1.   0.75\n",
      " 1.   0.   0.75 1.   1.   1.   1.   1.   1.   0.75 1.   1.   1.   1.\n",
      " 1.   0.   1.   1.   1.   1.   1.   0.   1.   1.   1.   1.   1.   1.\n",
      " 0.75 1.   0.   1.   1.   1.   1.   1.   0.75 1.   0.75 1.   1.   1.\n",
      " 0.5  1.   1.   1.   1.   1.   1.   1.   1.   1.   1.   1.   1.   0.5\n",
      " 1.   0.75 1.   1.   0.5  0.75 1.   0.75 0.25 0.75 1.   1.   1.   1.\n",
      " 1.   0.75 1.   0.5  1.   0.75 1.   1.   0.5  0.5  1.   0.75 1.   1.\n",
      " 1.   1.   0.75 1.   1.   1.   1.   0.75 0.   1.   1.   1.   1.   0.\n",
      " 1.   1.   1.   1.   1.   0.   0.   1.   1.   1.   1.   1.   0.75 0.5\n",
      " 1.   1.   1.   1.   1.   0.5  0.5  0.75 0.75 0.   0.75 1.   1.   1.\n",
      " 1.   1.   1.   1.   1.   1.   1.   1.   1.   0.75 1.   1.   1.   1.\n",
      " 1.   1.   1.   1.   1.   1.   1.   1.   0.75 1.   1.   1.   1.   1.\n",
      " 1.   0.75 0.75 1.   1.   0.5  1.   0.75 1.   1.   0.75 0.75 1.   1.\n",
      " 1.   0.75 1.   0.75 1.   1.   1.   1.   0.75 0.5  1.   1.   1.   1.\n",
      " 0.75 1.   1.   0.75 0.   1.   0.5  0.   0.25 1.   1.   1.   1.   0.75\n",
      " 1.   0.   1.   0.5  1.   1.   1.   1.   1.   1.   1.   1.   1.   1.\n",
      " 1.   1.   1.   0.5  1.   1.   0.5  1.   1.   0.5  1.   1.   1.   1.\n",
      " 1.   0.75 1.   1.   1.   1.   1.   1.   1.   1.   1.   0.   1.   1.\n",
      " 1.   1.   0.75 1.   0.75 0.5  1.   1.   1.   1.   1.   1.   1.   0.75\n",
      " 0.75 1.   0.5  1.   1.   1.   0.   1.   0.75 0.5  0.75 1.   1.   1.\n",
      " 1.   1.   0.   0.75 1.   1.   1.   1.   0.75 0.25 1.   0.75 1.   1.\n",
      " 0.5  0.5  0.75 1.   1.   1.   0.75 0.75 1.   1.   1.   0.75 1.   0.75\n",
      " 1.   1.   1.   0.75 1.   0.75 1.   0.   1.   0.5  1.   1.   1.   1.\n",
      " 0.   1.   0.75 1.   1.   1.   0.75 1.   0.25 0.5  0.75 1.   0.75 1.\n",
      " 1.   1.   0.25 1.   1.   0.25 0.75 1.   1.   0.5  1.   0.5  1.   0.\n",
      " 1.   1.   1.   0.75 1.   1.   1.   0.75 0.75 1.   1.   1.   0.75 0.75\n",
      " 1.   1.   0.75 1.   1.   0.5  1.   1.   0.75 1.   0.75 1.   1.   1.\n",
      " 0.25 1.   1.   1.   1.   1.   0.   0.75 0.5  1.   1.   1.   0.75 1.\n",
      " 0.5  1.   0.5  0.25 1.   1.   1.   1.   0.5  1.   1.   1.   1.   1.\n",
      " 1.   1.   1.   1.   1.   0.5  0.5  0.75 1.   0.75 1.   1.   0.   1.\n",
      " 1.   1.   1.   1.   1.   0.5  0.75 0.75 0.75 1.   1.   1.   0.5  0.5\n",
      " 1.   1.   1.   1.   0.5  1.   1.   1.   0.75 1.   1.   1.   1.   1.\n",
      " 0.5  1.   1.   1.   1.   0.75 0.75 1.   1.   1.   1.   0.5  0.75 1.\n",
      " 0.5  0.75 0.75 1.   1.   1.   1.   0.   1.   1.   0.75 1.   1.   1.\n",
      " 0.   1.   0.75 1.   1.   1.   1.   1.   1.   1.   0.75 1.   0.   0.\n",
      " 1.   0.5  1.   0.75 0.75 1.   1.   1.   0.75 0.   1.   0.75 0.75 1.\n",
      " 1.   1.   0.5  1.   0.75 1.   1.   0.75 1.   1.   0.5  1.   1.   1.\n",
      " 1.   1.   1.   0.75 0.75 1.   0.75 1.   1.   1.   1.   1.   0.75 1.\n",
      " 1.   0.75 0.75 0.   1.   1.   1.   0.   1.   1.   1.   0.75 1.   1.\n",
      " 0.75 0.75 0.   1.   0.75 0.75 0.   0.75 1.   1.   1.   1.   0.75 1.\n",
      " 0.75 1.   1.   1.   1.   1.   0.75 1.   1.   1.   1.   0.   1.   1.\n",
      " 1.   0.75 1.   1.   1.   0.   0.   0.5  0.75 0.25 1.   0.5  0.75 1.\n",
      " 0.75 1.   0.75 1.   1.   1.   1.   1.   1.   1.   1.   1.   1.   0.75\n",
      " 1.   0.5  0.75 0.75 1.   1.   1.   1.   1.   1.   1.   1.   0.5  1.\n",
      " 1.   0.75 1.   0.   0.75 0.5  1.   1.   1.   1.   0.75 0.25 1.   1.\n",
      " 1.   1.   1.   1.   0.75 0.75 1.   1.   0.5  1.   0.75 1.   1.   0.75\n",
      " 0.75 1.   0.75 1.   1.   1.   0.   0.75 1.   0.75 1.   1.   1.   1.\n",
      " 1.   0.5  1.   1.   1.   0.75 1.   0.75 1.   1.   1.   0.75 0.5  0.75\n",
      " 1.   1.   1.   1.   1.   0.75 1.   1.   0.75 1.   0.25 1.   1.   1.\n",
      " 0.75 0.75 0.5  0.75 0.75 0.   1.   1.   1.   1.   1.   1.   1.   0.75\n",
      " 1.   1.   1.   0.75 0.75 1.   1.   1.   1.   0.5  1.   1.   1.   1.\n",
      " 1.   1.   1.   0.75 0.75 1.   1.   1.   1.   1.   1.   0.75 1.   0.75\n",
      " 0.5  1.   0.75 1.   1.   1.   0.75 1.   1.   0.   0.75 1.   0.75 0.25\n",
      " 1.   1.   0.75 1.   1.   0.75 0.75 1.   1.   1.   1.   1.   1.   1.\n",
      " 0.   1.   0.5  0.75 1.   1.   1.   1.   1.   0.5  1.   0.75 1.   1.\n",
      " 1.   1.   1.   1.   0.75 1.   1.   1.   0.75 1.   1.   1.   1.   0.75\n",
      " 1.   1.   1.   1.   0.75 1.   0.75 0.75 1.   1.   1.   1.   1.   0.75\n",
      " 1.   0.75 1.   1.   0.75 0.25 1.   0.75 0.75 1.   1.   1.   1.   1.\n",
      " 0.5 ]\n"
     ]
    }
   ],
   "source": [
    "# Membuat variabel x untuk mencocokkan data nama user dan nama tempat menjadi satu value\n",
    "x = mydata[['Nama_User', 'Nama_Tempat']].values\n",
    " \n",
    "# Membuat variabel y untuk membuat rating dari hasil \n",
    "y = mydata['Rating'].apply(lambda x: (x - min_rating) / (max_rating - min_rating)).values\n",
    " \n",
    "# Membagi menjadi 80% data train dan 20% data validasi\n",
    "train_indices = int(0.8 * mydata.shape[0])\n",
    "x_train, x_val, y_train, y_val = (\n",
    "    x[:train_indices],\n",
    "    x[train_indices:],\n",
    "    y[:train_indices],\n",
    "    y[train_indices:]\n",
    ")\n",
    " \n",
    "print(x, y)"
   ]
  },
  {
   "cell_type": "markdown",
   "metadata": {
    "id": "GAJtDzqvMvE8"
   },
   "source": [
    "### Proses Training"
   ]
  },
  {
   "cell_type": "code",
   "execution_count": 16,
   "metadata": {
    "id": "Z-yW0TkFMxlZ"
   },
   "outputs": [],
   "source": [
    "class RecommenderNet(tf.keras.Model):\n",
    "  \n",
    "  # Insialisasi fungsi\n",
    "  def __init__(self, num_users, num_tempat, embedding_size, **kwargs):\n",
    "    super(RecommenderNet, self).__init__(**kwargs)\n",
    "    self.num_users = num_users\n",
    "    self.num_tempat = num_tempat\n",
    "    self.embedding_size = embedding_size\n",
    "    self.user_embedding = layers.Embedding( # layer embedding user\n",
    "        num_users,\n",
    "        embedding_size,\n",
    "        embeddings_initializer = 'he_normal',\n",
    "        embeddings_regularizer = keras.regularizers.l2(1e-6)\n",
    "    )\n",
    "    self.user_bias = layers.Embedding(num_users, 1) # layer embedding user bias\n",
    "    self.tempat_embedding = layers.Embedding( # layer embeddings tempat\n",
    "        num_tempat,\n",
    "        embedding_size,\n",
    "        embeddings_initializer = 'he_normal',\n",
    "        embeddings_regularizer = keras.regularizers.l2(1e-6)\n",
    "    )\n",
    "    self.tempat_bias = layers.Embedding(num_tempat, 1) # layer embedding tempat bias\n",
    " \n",
    "  def call(self, inputs):\n",
    "    user_vector = self.user_embedding(inputs[:,0]) # memanggil layer embedding 1\n",
    "    user_bias = self.user_bias(inputs[:, 0]) # memanggil layer embedding 2\n",
    "    tempat_vector = self.tempat_embedding(inputs[:, 1]) # memanggil layer embedding 3\n",
    "    tempat_bias = self.tempat_bias(inputs[:, 1]) # memanggil layer embedding 4\n",
    " \n",
    "    dot_user_tempat = tf.tensordot(user_vector, tempat_vector, 2) \n",
    " \n",
    "    x = dot_user_tempat + user_bias + tempat_bias\n",
    "    \n",
    "    return tf.nn.sigmoid(x) # activation sigmoid"
   ]
  },
  {
   "cell_type": "code",
   "execution_count": 17,
   "metadata": {
    "id": "nyxpEvR9NUli"
   },
   "outputs": [],
   "source": [
    "model = RecommenderNet(num_users, num_tempat, 50)\n",
    "model.compile(\n",
    "    loss = tf.keras.losses.BinaryCrossentropy(),\n",
    "    optimizer = keras.optimizers.Adam(learning_rate=0.001),\n",
    "    metrics=[tf.keras.metrics.RootMeanSquaredError()]\n",
    ")"
   ]
  },
  {
   "cell_type": "markdown",
   "metadata": {
    "id": "RdPdyc9wL-MF"
   },
   "source": [
    "##Yang model disave terus yg hasil rekomendasi tu di python webnya\n",
    "\n"
   ]
  },
  {
   "cell_type": "code",
   "execution_count": 18,
   "metadata": {
    "colab": {
     "base_uri": "https://localhost:8080/"
    },
    "id": "KIqQnZnRNVU7",
    "outputId": "7ab25066-119e-474e-b64a-a1ac89390d3f"
   },
   "outputs": [
    {
     "name": "stdout",
     "output_type": "stream",
     "text": [
      "Epoch 1/100\n",
      "82/82 [==============================] - 1s 5ms/step - loss: 0.6941 - root_mean_squared_error: 0.4409 - val_loss: 0.6899 - val_root_mean_squared_error: 0.4332\n",
      "Epoch 2/100\n",
      "82/82 [==============================] - 0s 2ms/step - loss: 0.5731 - root_mean_squared_error: 0.3671 - val_loss: 0.6783 - val_root_mean_squared_error: 0.4265\n",
      "Epoch 3/100\n",
      "82/82 [==============================] - 0s 4ms/step - loss: 0.4905 - root_mean_squared_error: 0.3114 - val_loss: 0.6700 - val_root_mean_squared_error: 0.4216\n",
      "Epoch 4/100\n",
      "82/82 [==============================] - 0s 4ms/step - loss: 0.4419 - root_mean_squared_error: 0.2780 - val_loss: 0.6643 - val_root_mean_squared_error: 0.4182\n",
      "Epoch 5/100\n",
      "82/82 [==============================] - 0s 4ms/step - loss: 0.4190 - root_mean_squared_error: 0.2636 - val_loss: 0.6608 - val_root_mean_squared_error: 0.4161\n",
      "Epoch 6/100\n",
      "82/82 [==============================] - 0s 4ms/step - loss: 0.4064 - root_mean_squared_error: 0.2565 - val_loss: 0.6589 - val_root_mean_squared_error: 0.4150\n",
      "Epoch 7/100\n",
      "82/82 [==============================] - 0s 4ms/step - loss: 0.4008 - root_mean_squared_error: 0.2537 - val_loss: 0.6573 - val_root_mean_squared_error: 0.4140\n",
      "Epoch 8/100\n",
      "82/82 [==============================] - 0s 4ms/step - loss: 0.3925 - root_mean_squared_error: 0.2497 - val_loss: 0.6564 - val_root_mean_squared_error: 0.4135\n",
      "Epoch 9/100\n",
      "82/82 [==============================] - 0s 4ms/step - loss: 0.3933 - root_mean_squared_error: 0.2504 - val_loss: 0.6558 - val_root_mean_squared_error: 0.4131\n",
      "Epoch 10/100\n",
      "82/82 [==============================] - 0s 4ms/step - loss: 0.3805 - root_mean_squared_error: 0.2428 - val_loss: 0.6554 - val_root_mean_squared_error: 0.4129\n",
      "Epoch 11/100\n",
      "82/82 [==============================] - 0s 4ms/step - loss: 0.3763 - root_mean_squared_error: 0.2399 - val_loss: 0.6547 - val_root_mean_squared_error: 0.4125\n",
      "Epoch 12/100\n",
      "82/82 [==============================] - 0s 4ms/step - loss: 0.3781 - root_mean_squared_error: 0.2418 - val_loss: 0.6540 - val_root_mean_squared_error: 0.4121\n",
      "Epoch 13/100\n",
      "82/82 [==============================] - 0s 4ms/step - loss: 0.3766 - root_mean_squared_error: 0.2408 - val_loss: 0.6534 - val_root_mean_squared_error: 0.4117\n",
      "Epoch 14/100\n",
      "82/82 [==============================] - 0s 4ms/step - loss: 0.3649 - root_mean_squared_error: 0.2320 - val_loss: 0.6524 - val_root_mean_squared_error: 0.4111\n",
      "Epoch 15/100\n",
      "82/82 [==============================] - 0s 4ms/step - loss: 0.3731 - root_mean_squared_error: 0.2387 - val_loss: 0.6518 - val_root_mean_squared_error: 0.4108\n",
      "Epoch 16/100\n",
      "82/82 [==============================] - 0s 4ms/step - loss: 0.3708 - root_mean_squared_error: 0.2375 - val_loss: 0.6510 - val_root_mean_squared_error: 0.4103\n",
      "Epoch 17/100\n",
      "82/82 [==============================] - 0s 4ms/step - loss: 0.3579 - root_mean_squared_error: 0.2294 - val_loss: 0.6499 - val_root_mean_squared_error: 0.4096\n",
      "Epoch 18/100\n",
      "82/82 [==============================] - 0s 4ms/step - loss: 0.3615 - root_mean_squared_error: 0.2318 - val_loss: 0.6492 - val_root_mean_squared_error: 0.4092\n",
      "Epoch 19/100\n",
      "82/82 [==============================] - 0s 4ms/step - loss: 0.3579 - root_mean_squared_error: 0.2289 - val_loss: 0.6479 - val_root_mean_squared_error: 0.4084\n",
      "Epoch 20/100\n",
      "82/82 [==============================] - 0s 4ms/step - loss: 0.3487 - root_mean_squared_error: 0.2232 - val_loss: 0.6469 - val_root_mean_squared_error: 0.4078\n",
      "Epoch 21/100\n",
      "82/82 [==============================] - 0s 4ms/step - loss: 0.3475 - root_mean_squared_error: 0.2220 - val_loss: 0.6460 - val_root_mean_squared_error: 0.4072\n",
      "Epoch 22/100\n",
      "82/82 [==============================] - 0s 4ms/step - loss: 0.3527 - root_mean_squared_error: 0.2260 - val_loss: 0.6446 - val_root_mean_squared_error: 0.4064\n",
      "Epoch 23/100\n",
      "82/82 [==============================] - 0s 4ms/step - loss: 0.3464 - root_mean_squared_error: 0.2215 - val_loss: 0.6443 - val_root_mean_squared_error: 0.4062\n",
      "Epoch 24/100\n",
      "82/82 [==============================] - 0s 4ms/step - loss: 0.3454 - root_mean_squared_error: 0.2218 - val_loss: 0.6431 - val_root_mean_squared_error: 0.4055\n",
      "Epoch 25/100\n",
      "82/82 [==============================] - 0s 4ms/step - loss: 0.3441 - root_mean_squared_error: 0.2204 - val_loss: 0.6426 - val_root_mean_squared_error: 0.4052\n",
      "Epoch 26/100\n",
      "82/82 [==============================] - 0s 4ms/step - loss: 0.3404 - root_mean_squared_error: 0.2178 - val_loss: 0.6417 - val_root_mean_squared_error: 0.4047\n",
      "Epoch 27/100\n",
      "82/82 [==============================] - 0s 4ms/step - loss: 0.3446 - root_mean_squared_error: 0.2218 - val_loss: 0.6415 - val_root_mean_squared_error: 0.4046\n",
      "Epoch 28/100\n",
      "82/82 [==============================] - 0s 4ms/step - loss: 0.3447 - root_mean_squared_error: 0.2206 - val_loss: 0.6411 - val_root_mean_squared_error: 0.4043\n",
      "Epoch 29/100\n",
      "82/82 [==============================] - 0s 4ms/step - loss: 0.3404 - root_mean_squared_error: 0.2179 - val_loss: 0.6405 - val_root_mean_squared_error: 0.4040\n",
      "Epoch 30/100\n",
      "82/82 [==============================] - 0s 4ms/step - loss: 0.3402 - root_mean_squared_error: 0.2182 - val_loss: 0.6391 - val_root_mean_squared_error: 0.4031\n",
      "Epoch 31/100\n",
      "82/82 [==============================] - 0s 4ms/step - loss: 0.3383 - root_mean_squared_error: 0.2166 - val_loss: 0.6375 - val_root_mean_squared_error: 0.4022\n",
      "Epoch 32/100\n",
      "82/82 [==============================] - 0s 4ms/step - loss: 0.3356 - root_mean_squared_error: 0.2150 - val_loss: 0.6371 - val_root_mean_squared_error: 0.4019\n",
      "Epoch 33/100\n",
      "82/82 [==============================] - 0s 4ms/step - loss: 0.3388 - root_mean_squared_error: 0.2177 - val_loss: 0.6369 - val_root_mean_squared_error: 0.4019\n",
      "Epoch 34/100\n",
      "82/82 [==============================] - 0s 4ms/step - loss: 0.3336 - root_mean_squared_error: 0.2126 - val_loss: 0.6361 - val_root_mean_squared_error: 0.4013\n",
      "Epoch 35/100\n",
      "82/82 [==============================] - 0s 4ms/step - loss: 0.3370 - root_mean_squared_error: 0.2170 - val_loss: 0.6360 - val_root_mean_squared_error: 0.4013\n",
      "Epoch 36/100\n",
      "82/82 [==============================] - 0s 4ms/step - loss: 0.3357 - root_mean_squared_error: 0.2140 - val_loss: 0.6347 - val_root_mean_squared_error: 0.4005\n",
      "Epoch 37/100\n",
      "82/82 [==============================] - 0s 4ms/step - loss: 0.3334 - root_mean_squared_error: 0.2132 - val_loss: 0.6345 - val_root_mean_squared_error: 0.4004\n",
      "Epoch 38/100\n",
      "82/82 [==============================] - 0s 4ms/step - loss: 0.3322 - root_mean_squared_error: 0.2131 - val_loss: 0.6348 - val_root_mean_squared_error: 0.4006\n",
      "Epoch 39/100\n",
      "82/82 [==============================] - 0s 4ms/step - loss: 0.3272 - root_mean_squared_error: 0.2083 - val_loss: 0.6331 - val_root_mean_squared_error: 0.3996\n",
      "Epoch 40/100\n",
      "82/82 [==============================] - 0s 4ms/step - loss: 0.3284 - root_mean_squared_error: 0.2084 - val_loss: 0.6318 - val_root_mean_squared_error: 0.3988\n",
      "Epoch 41/100\n",
      "82/82 [==============================] - 0s 4ms/step - loss: 0.3243 - root_mean_squared_error: 0.2050 - val_loss: 0.6307 - val_root_mean_squared_error: 0.3982\n",
      "Epoch 42/100\n",
      "82/82 [==============================] - 0s 4ms/step - loss: 0.3246 - root_mean_squared_error: 0.2082 - val_loss: 0.6304 - val_root_mean_squared_error: 0.3980\n",
      "Epoch 43/100\n",
      "82/82 [==============================] - 0s 4ms/step - loss: 0.3171 - root_mean_squared_error: 0.2005 - val_loss: 0.6299 - val_root_mean_squared_error: 0.3977\n",
      "Epoch 44/100\n",
      "82/82 [==============================] - 0s 4ms/step - loss: 0.3216 - root_mean_squared_error: 0.2056 - val_loss: 0.6293 - val_root_mean_squared_error: 0.3974\n",
      "Epoch 45/100\n",
      "82/82 [==============================] - 0s 4ms/step - loss: 0.3223 - root_mean_squared_error: 0.2057 - val_loss: 0.6285 - val_root_mean_squared_error: 0.3970\n",
      "Epoch 46/100\n",
      "82/82 [==============================] - 0s 4ms/step - loss: 0.3192 - root_mean_squared_error: 0.2012 - val_loss: 0.6275 - val_root_mean_squared_error: 0.3964\n",
      "Epoch 47/100\n",
      "82/82 [==============================] - 0s 4ms/step - loss: 0.3156 - root_mean_squared_error: 0.1997 - val_loss: 0.6273 - val_root_mean_squared_error: 0.3962\n",
      "Epoch 48/100\n",
      "82/82 [==============================] - 0s 4ms/step - loss: 0.3157 - root_mean_squared_error: 0.1998 - val_loss: 0.6258 - val_root_mean_squared_error: 0.3954\n"
     ]
    },
    {
     "name": "stdout",
     "output_type": "stream",
     "text": [
      "Epoch 49/100\n",
      "82/82 [==============================] - 0s 4ms/step - loss: 0.3155 - root_mean_squared_error: 0.1990 - val_loss: 0.6255 - val_root_mean_squared_error: 0.3952\n",
      "Epoch 50/100\n",
      "82/82 [==============================] - 0s 4ms/step - loss: 0.3098 - root_mean_squared_error: 0.1966 - val_loss: 0.6250 - val_root_mean_squared_error: 0.3949\n",
      "Epoch 51/100\n",
      "82/82 [==============================] - 0s 4ms/step - loss: 0.3102 - root_mean_squared_error: 0.1955 - val_loss: 0.6239 - val_root_mean_squared_error: 0.3942\n",
      "Epoch 52/100\n",
      "82/82 [==============================] - 0s 4ms/step - loss: 0.3126 - root_mean_squared_error: 0.1997 - val_loss: 0.6239 - val_root_mean_squared_error: 0.3943\n",
      "Epoch 53/100\n",
      "82/82 [==============================] - 0s 4ms/step - loss: 0.3084 - root_mean_squared_error: 0.1933 - val_loss: 0.6221 - val_root_mean_squared_error: 0.3932\n",
      "Epoch 54/100\n",
      "82/82 [==============================] - 0s 4ms/step - loss: 0.3052 - root_mean_squared_error: 0.1922 - val_loss: 0.6219 - val_root_mean_squared_error: 0.3931\n",
      "Epoch 55/100\n",
      "82/82 [==============================] - 0s 4ms/step - loss: 0.3089 - root_mean_squared_error: 0.1936 - val_loss: 0.6221 - val_root_mean_squared_error: 0.3933\n",
      "Epoch 56/100\n",
      "82/82 [==============================] - 0s 4ms/step - loss: 0.3056 - root_mean_squared_error: 0.1915 - val_loss: 0.6214 - val_root_mean_squared_error: 0.3929\n",
      "Epoch 57/100\n",
      "82/82 [==============================] - 0s 4ms/step - loss: 0.3055 - root_mean_squared_error: 0.1918 - val_loss: 0.6209 - val_root_mean_squared_error: 0.3925\n",
      "Epoch 58/100\n",
      "82/82 [==============================] - 0s 4ms/step - loss: 0.3081 - root_mean_squared_error: 0.1951 - val_loss: 0.6203 - val_root_mean_squared_error: 0.3922\n",
      "Epoch 59/100\n",
      "82/82 [==============================] - 0s 4ms/step - loss: 0.3018 - root_mean_squared_error: 0.1871 - val_loss: 0.6204 - val_root_mean_squared_error: 0.3923\n",
      "Epoch 60/100\n",
      "82/82 [==============================] - 0s 4ms/step - loss: 0.3024 - root_mean_squared_error: 0.1901 - val_loss: 0.6205 - val_root_mean_squared_error: 0.3924\n",
      "Epoch 61/100\n",
      "82/82 [==============================] - 0s 4ms/step - loss: 0.3012 - root_mean_squared_error: 0.1873 - val_loss: 0.6204 - val_root_mean_squared_error: 0.3923\n",
      "Epoch 62/100\n",
      "82/82 [==============================] - 0s 4ms/step - loss: 0.2957 - root_mean_squared_error: 0.1832 - val_loss: 0.6200 - val_root_mean_squared_error: 0.3921\n",
      "Epoch 63/100\n",
      "82/82 [==============================] - 0s 4ms/step - loss: 0.2998 - root_mean_squared_error: 0.1864 - val_loss: 0.6200 - val_root_mean_squared_error: 0.3922\n",
      "Epoch 64/100\n",
      "82/82 [==============================] - 0s 4ms/step - loss: 0.2956 - root_mean_squared_error: 0.1822 - val_loss: 0.6191 - val_root_mean_squared_error: 0.3917\n",
      "Epoch 65/100\n",
      "82/82 [==============================] - 0s 4ms/step - loss: 0.2984 - root_mean_squared_error: 0.1855 - val_loss: 0.6195 - val_root_mean_squared_error: 0.3919\n",
      "Epoch 66/100\n",
      "82/82 [==============================] - 0s 4ms/step - loss: 0.2965 - root_mean_squared_error: 0.1830 - val_loss: 0.6181 - val_root_mean_squared_error: 0.3911\n",
      "Epoch 67/100\n",
      "82/82 [==============================] - 0s 4ms/step - loss: 0.2954 - root_mean_squared_error: 0.1840 - val_loss: 0.6172 - val_root_mean_squared_error: 0.3906\n",
      "Epoch 68/100\n",
      "82/82 [==============================] - 0s 4ms/step - loss: 0.2966 - root_mean_squared_error: 0.1850 - val_loss: 0.6161 - val_root_mean_squared_error: 0.3899\n",
      "Epoch 69/100\n",
      "82/82 [==============================] - 0s 4ms/step - loss: 0.2905 - root_mean_squared_error: 0.1770 - val_loss: 0.6156 - val_root_mean_squared_error: 0.3897\n",
      "Epoch 70/100\n",
      "82/82 [==============================] - 0s 4ms/step - loss: 0.2913 - root_mean_squared_error: 0.1814 - val_loss: 0.6159 - val_root_mean_squared_error: 0.3899\n",
      "Epoch 71/100\n",
      "82/82 [==============================] - 0s 4ms/step - loss: 0.2879 - root_mean_squared_error: 0.1750 - val_loss: 0.6147 - val_root_mean_squared_error: 0.3892\n",
      "Epoch 72/100\n",
      "82/82 [==============================] - 0s 4ms/step - loss: 0.2861 - root_mean_squared_error: 0.1754 - val_loss: 0.6148 - val_root_mean_squared_error: 0.3893\n",
      "Epoch 73/100\n",
      "82/82 [==============================] - 0s 4ms/step - loss: 0.2907 - root_mean_squared_error: 0.1806 - val_loss: 0.6149 - val_root_mean_squared_error: 0.3893\n",
      "Epoch 74/100\n",
      "82/82 [==============================] - 0s 4ms/step - loss: 0.2900 - root_mean_squared_error: 0.1780 - val_loss: 0.6148 - val_root_mean_squared_error: 0.3893\n",
      "Epoch 75/100\n",
      "82/82 [==============================] - 0s 4ms/step - loss: 0.2854 - root_mean_squared_error: 0.1742 - val_loss: 0.6145 - val_root_mean_squared_error: 0.3891\n",
      "Epoch 76/100\n",
      "82/82 [==============================] - 0s 4ms/step - loss: 0.2866 - root_mean_squared_error: 0.1737 - val_loss: 0.6144 - val_root_mean_squared_error: 0.3891\n",
      "Epoch 77/100\n",
      "82/82 [==============================] - 0s 4ms/step - loss: 0.2859 - root_mean_squared_error: 0.1763 - val_loss: 0.6150 - val_root_mean_squared_error: 0.3895\n",
      "Epoch 78/100\n",
      "82/82 [==============================] - 0s 4ms/step - loss: 0.2854 - root_mean_squared_error: 0.1727 - val_loss: 0.6149 - val_root_mean_squared_error: 0.3894\n",
      "Epoch 79/100\n",
      "82/82 [==============================] - 0s 4ms/step - loss: 0.2821 - root_mean_squared_error: 0.1723 - val_loss: 0.6138 - val_root_mean_squared_error: 0.3888\n",
      "Epoch 80/100\n",
      "82/82 [==============================] - 0s 4ms/step - loss: 0.2803 - root_mean_squared_error: 0.1687 - val_loss: 0.6130 - val_root_mean_squared_error: 0.3883\n",
      "Epoch 81/100\n",
      "82/82 [==============================] - 0s 4ms/step - loss: 0.2827 - root_mean_squared_error: 0.1719 - val_loss: 0.6126 - val_root_mean_squared_error: 0.3882\n",
      "Epoch 82/100\n",
      "82/82 [==============================] - 0s 4ms/step - loss: 0.2801 - root_mean_squared_error: 0.1676 - val_loss: 0.6124 - val_root_mean_squared_error: 0.3880\n",
      "Epoch 83/100\n",
      "82/82 [==============================] - 0s 4ms/step - loss: 0.2786 - root_mean_squared_error: 0.1685 - val_loss: 0.6118 - val_root_mean_squared_error: 0.3877\n",
      "Epoch 84/100\n",
      "82/82 [==============================] - 0s 4ms/step - loss: 0.2801 - root_mean_squared_error: 0.1663 - val_loss: 0.6119 - val_root_mean_squared_error: 0.3878\n",
      "Epoch 85/100\n",
      "82/82 [==============================] - 0s 4ms/step - loss: 0.2773 - root_mean_squared_error: 0.1668 - val_loss: 0.6109 - val_root_mean_squared_error: 0.3873\n",
      "Epoch 86/100\n",
      "82/82 [==============================] - 0s 4ms/step - loss: 0.2780 - root_mean_squared_error: 0.1675 - val_loss: 0.6103 - val_root_mean_squared_error: 0.3870\n",
      "Epoch 87/100\n",
      "82/82 [==============================] - 0s 4ms/step - loss: 0.2744 - root_mean_squared_error: 0.1644 - val_loss: 0.6104 - val_root_mean_squared_error: 0.3871\n",
      "Epoch 88/100\n",
      "82/82 [==============================] - 0s 4ms/step - loss: 0.2739 - root_mean_squared_error: 0.1625 - val_loss: 0.6102 - val_root_mean_squared_error: 0.3870\n",
      "Epoch 89/100\n",
      "82/82 [==============================] - 0s 4ms/step - loss: 0.2724 - root_mean_squared_error: 0.1616 - val_loss: 0.6099 - val_root_mean_squared_error: 0.3868\n",
      "Epoch 90/100\n",
      "82/82 [==============================] - 0s 4ms/step - loss: 0.2743 - root_mean_squared_error: 0.1638 - val_loss: 0.6099 - val_root_mean_squared_error: 0.3869\n",
      "Epoch 91/100\n",
      "82/82 [==============================] - 0s 4ms/step - loss: 0.2697 - root_mean_squared_error: 0.1588 - val_loss: 0.6089 - val_root_mean_squared_error: 0.3863\n",
      "Epoch 92/100\n",
      "82/82 [==============================] - 0s 4ms/step - loss: 0.2739 - root_mean_squared_error: 0.1654 - val_loss: 0.6091 - val_root_mean_squared_error: 0.3864\n",
      "Epoch 93/100\n",
      "82/82 [==============================] - 0s 4ms/step - loss: 0.2733 - root_mean_squared_error: 0.1632 - val_loss: 0.6085 - val_root_mean_squared_error: 0.3861\n",
      "Epoch 94/100\n",
      "82/82 [==============================] - 0s 4ms/step - loss: 0.2744 - root_mean_squared_error: 0.1657 - val_loss: 0.6084 - val_root_mean_squared_error: 0.3861\n",
      "Epoch 95/100\n",
      "82/82 [==============================] - 0s 4ms/step - loss: 0.2672 - root_mean_squared_error: 0.1550 - val_loss: 0.6078 - val_root_mean_squared_error: 0.3857\n",
      "Epoch 96/100\n"
     ]
    },
    {
     "name": "stdout",
     "output_type": "stream",
     "text": [
      "82/82 [==============================] - 0s 4ms/step - loss: 0.2703 - root_mean_squared_error: 0.1615 - val_loss: 0.6078 - val_root_mean_squared_error: 0.3857\n",
      "Epoch 97/100\n",
      "82/82 [==============================] - 0s 4ms/step - loss: 0.2668 - root_mean_squared_error: 0.1551 - val_loss: 0.6074 - val_root_mean_squared_error: 0.3855\n",
      "Epoch 98/100\n",
      "82/82 [==============================] - 0s 4ms/step - loss: 0.2691 - root_mean_squared_error: 0.1604 - val_loss: 0.6069 - val_root_mean_squared_error: 0.3853\n",
      "Epoch 99/100\n",
      "82/82 [==============================] - 0s 4ms/step - loss: 0.2667 - root_mean_squared_error: 0.1557 - val_loss: 0.6066 - val_root_mean_squared_error: 0.3851\n",
      "Epoch 100/100\n",
      "82/82 [==============================] - 0s 4ms/step - loss: 0.2626 - root_mean_squared_error: 0.1520 - val_loss: 0.6065 - val_root_mean_squared_error: 0.3851\n"
     ]
    }
   ],
   "source": [
    "history = model.fit(\n",
    "    x = x_train,\n",
    "    y = y_train,\n",
    "    batch_size = 8,\n",
    "    epochs = 100,\n",
    "    validation_data = (x_val, y_val)\n",
    ")"
   ]
  },
  {
   "cell_type": "code",
   "execution_count": 19,
   "metadata": {
    "id": "6ywjF-5lNakj"
   },
   "outputs": [],
   "source": [
    "tempat_mydata = tempat_new\n",
    "data = pd.read_csv('Data Orbit - Data Gabungan.csv')\n",
    "mydata = data[1:814]\n",
    "\n",
    "# Mengambil sample user\n",
    "user_id = mydata['ID_User'].sample(100).iloc[30]\n",
    "tempat_visited_by_user = mydata[mydata['ID_User'] == user_id]\n",
    " \n",
    "# Operator bitwise (~)\n",
    "tempat_not_visited = tempat_mydata[~tempat_mydata['id'].isin(tempat_visited_by_user.ID_Tempat.values)]['id'] \n",
    "tempat_not_visited = list(\n",
    "    set(tempat_not_visited)\n",
    "    .intersection(set(tempat_to_tempat_encoded.keys()))\n",
    ")\n",
    " \n",
    "tempat_not_visited = [[tempat_to_tempat_encoded.get(x)] for x in tempat_not_visited]\n",
    "user_encoder = user_to_user_encoded.get(user_id)\n",
    "user_tempat_array = np.hstack(\n",
    "    ([[user_encoder]] * len(tempat_not_visited), tempat_not_visited)\n",
    ")"
   ]
  },
  {
   "cell_type": "code",
   "execution_count": 20,
   "metadata": {
    "colab": {
     "base_uri": "https://localhost:8080/"
    },
    "id": "TlnUWP5F1WBV",
    "outputId": "2cf8fe2d-d3f9-46e6-83d5-f3ac6c0b6397"
   },
   "outputs": [
    {
     "name": "stdout",
     "output_type": "stream",
     "text": [
      "INFO:tensorflow:Assets written to: ./saved_models/my_tf_model\\assets\n"
     ]
    }
   ],
   "source": [
    "model.save('./saved_models/my_tf_model')"
   ]
  },
  {
   "cell_type": "code",
   "execution_count": 21,
   "metadata": {
    "colab": {
     "base_uri": "https://localhost:8080/"
    },
    "id": "NkRLVdVsuQH4",
    "outputId": "7255a5d5-a097-46b7-860d-cbea18b34e80"
   },
   "outputs": [
    {
     "name": "stdout",
     "output_type": "stream",
     "text": [
      "Model: \"recommender_net\"\n",
      "_________________________________________________________________\n",
      " Layer (type)                Output Shape              Param #   \n",
      "=================================================================\n",
      " embedding (Embedding)       multiple                  39050     \n",
      "                                                                 \n",
      " embedding_1 (Embedding)     multiple                  781       \n",
      "                                                                 \n",
      " embedding_2 (Embedding)     multiple                  5000      \n",
      "                                                                 \n",
      " embedding_3 (Embedding)     multiple                  100       \n",
      "                                                                 \n",
      "=================================================================\n",
      "Total params: 44,931\n",
      "Trainable params: 44,931\n",
      "Non-trainable params: 0\n",
      "_________________________________________________________________\n"
     ]
    }
   ],
   "source": [
    "my_tf_saved_model = tf.keras.models.load_model('./saved_models/my_tf_model')\n",
    "my_tf_saved_model.summary()"
   ]
  },
  {
   "cell_type": "code",
   "execution_count": 22,
   "metadata": {},
   "outputs": [
    {
     "name": "stdout",
     "output_type": "stream",
     "text": [
      "Epoch 1/100\n"
     ]
    },
    {
     "name": "stderr",
     "output_type": "stream",
     "text": [
      "C:\\Users\\Ayu Triana\\anaconda3\\lib\\site-packages\\tensorflow\\python\\framework\\indexed_slices.py:444: UserWarning: Converting sparse IndexedSlices(IndexedSlices(indices=Tensor(\"Adam/gradients/PartitionedCall:1\", shape=(None,), dtype=int64), values=Tensor(\"Adam/gradients/PartitionedCall:0\", shape=(None, 50), dtype=float32), dense_shape=Tensor(\"Adam/gradients/PartitionedCall:2\", shape=(2,), dtype=int32))) to a dense Tensor of unknown shape. This may consume a large amount of memory.\n",
      "  warnings.warn(\n",
      "C:\\Users\\Ayu Triana\\anaconda3\\lib\\site-packages\\tensorflow\\python\\framework\\indexed_slices.py:444: UserWarning: Converting sparse IndexedSlices(IndexedSlices(indices=Tensor(\"Adam/gradients/PartitionedCall:7\", shape=(None,), dtype=int64), values=Tensor(\"Adam/gradients/PartitionedCall:6\", shape=(None, 50), dtype=float32), dense_shape=Tensor(\"Adam/gradients/PartitionedCall:8\", shape=(2,), dtype=int32))) to a dense Tensor of unknown shape. This may consume a large amount of memory.\n",
      "  warnings.warn(\n"
     ]
    },
    {
     "name": "stdout",
     "output_type": "stream",
     "text": [
      "82/82 [==============================] - 3s 8ms/step - loss: 0.2669 - root_mean_squared_error: 0.1524 - val_loss: 0.6065 - val_root_mean_squared_error: 0.3852\n",
      "Epoch 2/100\n",
      "82/82 [==============================] - 0s 4ms/step - loss: 0.2644 - root_mean_squared_error: 0.1558 - val_loss: 0.6060 - val_root_mean_squared_error: 0.3849\n",
      "Epoch 3/100\n",
      "82/82 [==============================] - 0s 4ms/step - loss: 0.2645 - root_mean_squared_error: 0.1528 - val_loss: 0.6054 - val_root_mean_squared_error: 0.3846\n",
      "Epoch 4/100\n",
      "82/82 [==============================] - 0s 4ms/step - loss: 0.2599 - root_mean_squared_error: 0.1471 - val_loss: 0.6045 - val_root_mean_squared_error: 0.3841\n",
      "Epoch 5/100\n",
      "82/82 [==============================] - 0s 4ms/step - loss: 0.2598 - root_mean_squared_error: 0.1494 - val_loss: 0.6035 - val_root_mean_squared_error: 0.3835\n",
      "Epoch 6/100\n",
      "82/82 [==============================] - 0s 4ms/step - loss: 0.2621 - root_mean_squared_error: 0.1526 - val_loss: 0.6019 - val_root_mean_squared_error: 0.3826\n",
      "Epoch 7/100\n",
      "82/82 [==============================] - 0s 4ms/step - loss: 0.2581 - root_mean_squared_error: 0.1491 - val_loss: 0.6019 - val_root_mean_squared_error: 0.3827\n",
      "Epoch 8/100\n",
      "82/82 [==============================] - 0s 4ms/step - loss: 0.2590 - root_mean_squared_error: 0.1495 - val_loss: 0.6011 - val_root_mean_squared_error: 0.3822\n",
      "Epoch 9/100\n",
      "82/82 [==============================] - 0s 4ms/step - loss: 0.2598 - root_mean_squared_error: 0.1505 - val_loss: 0.6014 - val_root_mean_squared_error: 0.3824\n",
      "Epoch 10/100\n",
      "82/82 [==============================] - 0s 4ms/step - loss: 0.2584 - root_mean_squared_error: 0.1472 - val_loss: 0.6010 - val_root_mean_squared_error: 0.3822\n",
      "Epoch 11/100\n",
      "82/82 [==============================] - 0s 4ms/step - loss: 0.2576 - root_mean_squared_error: 0.1473 - val_loss: 0.6009 - val_root_mean_squared_error: 0.3822\n",
      "Epoch 12/100\n",
      "82/82 [==============================] - 0s 4ms/step - loss: 0.2554 - root_mean_squared_error: 0.1457 - val_loss: 0.6006 - val_root_mean_squared_error: 0.3821\n",
      "Epoch 13/100\n",
      "82/82 [==============================] - 0s 4ms/step - loss: 0.2539 - root_mean_squared_error: 0.1438 - val_loss: 0.5996 - val_root_mean_squared_error: 0.3815\n",
      "Epoch 14/100\n",
      "82/82 [==============================] - 0s 4ms/step - loss: 0.2572 - root_mean_squared_error: 0.1472 - val_loss: 0.6005 - val_root_mean_squared_error: 0.3821\n",
      "Epoch 15/100\n",
      "82/82 [==============================] - 0s 4ms/step - loss: 0.2580 - root_mean_squared_error: 0.1475 - val_loss: 0.6001 - val_root_mean_squared_error: 0.3819\n",
      "Epoch 16/100\n",
      "82/82 [==============================] - 0s 4ms/step - loss: 0.2549 - root_mean_squared_error: 0.1441 - val_loss: 0.5990 - val_root_mean_squared_error: 0.3812\n",
      "Epoch 17/100\n",
      "82/82 [==============================] - 0s 4ms/step - loss: 0.2537 - root_mean_squared_error: 0.1444 - val_loss: 0.5988 - val_root_mean_squared_error: 0.3812\n",
      "Epoch 18/100\n",
      "82/82 [==============================] - 0s 4ms/step - loss: 0.2534 - root_mean_squared_error: 0.1407 - val_loss: 0.5981 - val_root_mean_squared_error: 0.3807\n",
      "Epoch 19/100\n",
      "82/82 [==============================] - 0s 4ms/step - loss: 0.2506 - root_mean_squared_error: 0.1413 - val_loss: 0.5972 - val_root_mean_squared_error: 0.3803\n",
      "Epoch 20/100\n",
      "82/82 [==============================] - 0s 4ms/step - loss: 0.2500 - root_mean_squared_error: 0.1385 - val_loss: 0.5978 - val_root_mean_squared_error: 0.3806\n",
      "Epoch 21/100\n",
      "82/82 [==============================] - 0s 4ms/step - loss: 0.2513 - root_mean_squared_error: 0.1405 - val_loss: 0.5976 - val_root_mean_squared_error: 0.3806\n",
      "Epoch 22/100\n",
      "82/82 [==============================] - 0s 4ms/step - loss: 0.2467 - root_mean_squared_error: 0.1349 - val_loss: 0.5971 - val_root_mean_squared_error: 0.3803\n",
      "Epoch 23/100\n",
      "82/82 [==============================] - 0s 4ms/step - loss: 0.2469 - root_mean_squared_error: 0.1355 - val_loss: 0.5973 - val_root_mean_squared_error: 0.3805\n",
      "Epoch 24/100\n",
      "82/82 [==============================] - 0s 4ms/step - loss: 0.2500 - root_mean_squared_error: 0.1389 - val_loss: 0.5971 - val_root_mean_squared_error: 0.3804\n",
      "Epoch 25/100\n",
      "82/82 [==============================] - 0s 4ms/step - loss: 0.2490 - root_mean_squared_error: 0.1363 - val_loss: 0.5968 - val_root_mean_squared_error: 0.3803\n",
      "Epoch 26/100\n",
      "82/82 [==============================] - 0s 4ms/step - loss: 0.2408 - root_mean_squared_error: 0.1273 - val_loss: 0.5957 - val_root_mean_squared_error: 0.3796\n",
      "Epoch 27/100\n",
      "82/82 [==============================] - 0s 4ms/step - loss: 0.2496 - root_mean_squared_error: 0.1442 - val_loss: 0.5956 - val_root_mean_squared_error: 0.3796\n",
      "Epoch 28/100\n",
      "82/82 [==============================] - 0s 4ms/step - loss: 0.2463 - root_mean_squared_error: 0.1330 - val_loss: 0.5958 - val_root_mean_squared_error: 0.3798\n",
      "Epoch 29/100\n",
      "82/82 [==============================] - 0s 4ms/step - loss: 0.2444 - root_mean_squared_error: 0.1325 - val_loss: 0.5947 - val_root_mean_squared_error: 0.3792\n",
      "Epoch 30/100\n",
      "82/82 [==============================] - 0s 4ms/step - loss: 0.2430 - root_mean_squared_error: 0.1329 - val_loss: 0.5953 - val_root_mean_squared_error: 0.3795\n",
      "Epoch 31/100\n",
      "82/82 [==============================] - 0s 4ms/step - loss: 0.2428 - root_mean_squared_error: 0.1318 - val_loss: 0.5946 - val_root_mean_squared_error: 0.3792\n",
      "Epoch 32/100\n",
      "82/82 [==============================] - 0s 4ms/step - loss: 0.2410 - root_mean_squared_error: 0.1279 - val_loss: 0.5944 - val_root_mean_squared_error: 0.3790\n",
      "Epoch 33/100\n",
      "82/82 [==============================] - 0s 4ms/step - loss: 0.2427 - root_mean_squared_error: 0.1315 - val_loss: 0.5946 - val_root_mean_squared_error: 0.3792\n",
      "Epoch 34/100\n",
      "82/82 [==============================] - 0s 4ms/step - loss: 0.2429 - root_mean_squared_error: 0.1299 - val_loss: 0.5947 - val_root_mean_squared_error: 0.3793\n",
      "Epoch 35/100\n",
      "82/82 [==============================] - 0s 4ms/step - loss: 0.2418 - root_mean_squared_error: 0.1295 - val_loss: 0.5946 - val_root_mean_squared_error: 0.3793\n",
      "Epoch 36/100\n",
      "82/82 [==============================] - 0s 4ms/step - loss: 0.2424 - root_mean_squared_error: 0.1303 - val_loss: 0.5947 - val_root_mean_squared_error: 0.3794\n",
      "Epoch 37/100\n",
      "82/82 [==============================] - 0s 4ms/step - loss: 0.2414 - root_mean_squared_error: 0.1302 - val_loss: 0.5943 - val_root_mean_squared_error: 0.3792\n",
      "Epoch 38/100\n",
      "82/82 [==============================] - 0s 4ms/step - loss: 0.2397 - root_mean_squared_error: 0.1286 - val_loss: 0.5944 - val_root_mean_squared_error: 0.3793\n",
      "Epoch 39/100\n",
      "82/82 [==============================] - 0s 4ms/step - loss: 0.2372 - root_mean_squared_error: 0.1247 - val_loss: 0.5939 - val_root_mean_squared_error: 0.3790\n",
      "Epoch 40/100\n",
      "82/82 [==============================] - 0s 4ms/step - loss: 0.2387 - root_mean_squared_error: 0.1265 - val_loss: 0.5947 - val_root_mean_squared_error: 0.3795\n",
      "Epoch 41/100\n",
      "82/82 [==============================] - 0s 4ms/step - loss: 0.2370 - root_mean_squared_error: 0.1224 - val_loss: 0.5947 - val_root_mean_squared_error: 0.3795\n",
      "Epoch 42/100\n",
      "82/82 [==============================] - 0s 4ms/step - loss: 0.2378 - root_mean_squared_error: 0.1238 - val_loss: 0.5947 - val_root_mean_squared_error: 0.3796\n",
      "Epoch 43/100\n",
      "82/82 [==============================] - 0s 4ms/step - loss: 0.2347 - root_mean_squared_error: 0.1211 - val_loss: 0.5941 - val_root_mean_squared_error: 0.3792\n",
      "Epoch 44/100\n",
      "82/82 [==============================] - 0s 4ms/step - loss: 0.2366 - root_mean_squared_error: 0.1276 - val_loss: 0.5946 - val_root_mean_squared_error: 0.3795\n",
      "Epoch 45/100\n",
      "82/82 [==============================] - 0s 4ms/step - loss: 0.2346 - root_mean_squared_error: 0.1223 - val_loss: 0.5943 - val_root_mean_squared_error: 0.3794\n",
      "Epoch 46/100\n",
      "82/82 [==============================] - 0s 4ms/step - loss: 0.2356 - root_mean_squared_error: 0.1232 - val_loss: 0.5945 - val_root_mean_squared_error: 0.3795\n",
      "Epoch 47/100\n",
      "82/82 [==============================] - 0s 4ms/step - loss: 0.2341 - root_mean_squared_error: 0.1218 - val_loss: 0.5946 - val_root_mean_squared_error: 0.3796\n",
      "Epoch 48/100\n",
      "82/82 [==============================] - 0s 4ms/step - loss: 0.2349 - root_mean_squared_error: 0.1209 - val_loss: 0.5945 - val_root_mean_squared_error: 0.3795\n"
     ]
    },
    {
     "name": "stdout",
     "output_type": "stream",
     "text": [
      "Epoch 49/100\n",
      "82/82 [==============================] - 0s 4ms/step - loss: 0.2326 - root_mean_squared_error: 0.1194 - val_loss: 0.5935 - val_root_mean_squared_error: 0.3790\n",
      "Epoch 50/100\n",
      "82/82 [==============================] - 0s 4ms/step - loss: 0.2323 - root_mean_squared_error: 0.1163 - val_loss: 0.5932 - val_root_mean_squared_error: 0.3788\n",
      "Epoch 51/100\n",
      "82/82 [==============================] - 0s 4ms/step - loss: 0.2308 - root_mean_squared_error: 0.1140 - val_loss: 0.5933 - val_root_mean_squared_error: 0.3789\n",
      "Epoch 52/100\n",
      "82/82 [==============================] - 0s 4ms/step - loss: 0.2314 - root_mean_squared_error: 0.1193 - val_loss: 0.5924 - val_root_mean_squared_error: 0.3784\n",
      "Epoch 53/100\n",
      "82/82 [==============================] - 0s 4ms/step - loss: 0.2290 - root_mean_squared_error: 0.1149 - val_loss: 0.5929 - val_root_mean_squared_error: 0.3787\n",
      "Epoch 54/100\n",
      "82/82 [==============================] - 0s 4ms/step - loss: 0.2343 - root_mean_squared_error: 0.1241 - val_loss: 0.5929 - val_root_mean_squared_error: 0.3787\n",
      "Epoch 55/100\n",
      "82/82 [==============================] - 0s 4ms/step - loss: 0.2315 - root_mean_squared_error: 0.1167 - val_loss: 0.5934 - val_root_mean_squared_error: 0.3791\n",
      "Epoch 56/100\n",
      "82/82 [==============================] - 0s 4ms/step - loss: 0.2319 - root_mean_squared_error: 0.1192 - val_loss: 0.5931 - val_root_mean_squared_error: 0.3789\n",
      "Epoch 57/100\n",
      "82/82 [==============================] - 0s 4ms/step - loss: 0.2284 - root_mean_squared_error: 0.1136 - val_loss: 0.5927 - val_root_mean_squared_error: 0.3787\n",
      "Epoch 58/100\n",
      "82/82 [==============================] - 0s 4ms/step - loss: 0.2282 - root_mean_squared_error: 0.1147 - val_loss: 0.5926 - val_root_mean_squared_error: 0.3787\n",
      "Epoch 59/100\n",
      "82/82 [==============================] - 0s 4ms/step - loss: 0.2286 - root_mean_squared_error: 0.1137 - val_loss: 0.5923 - val_root_mean_squared_error: 0.3785\n",
      "Epoch 60/100\n",
      "82/82 [==============================] - 0s 4ms/step - loss: 0.2288 - root_mean_squared_error: 0.1155 - val_loss: 0.5915 - val_root_mean_squared_error: 0.3781\n",
      "Epoch 61/100\n",
      "82/82 [==============================] - 0s 4ms/step - loss: 0.2265 - root_mean_squared_error: 0.1128 - val_loss: 0.5914 - val_root_mean_squared_error: 0.3780\n",
      "Epoch 62/100\n",
      "82/82 [==============================] - 0s 4ms/step - loss: 0.2273 - root_mean_squared_error: 0.1122 - val_loss: 0.5912 - val_root_mean_squared_error: 0.3779\n",
      "Epoch 63/100\n",
      "82/82 [==============================] - 0s 4ms/step - loss: 0.2258 - root_mean_squared_error: 0.1094 - val_loss: 0.5911 - val_root_mean_squared_error: 0.3778\n",
      "Epoch 64/100\n",
      "82/82 [==============================] - 0s 4ms/step - loss: 0.2252 - root_mean_squared_error: 0.1102 - val_loss: 0.5908 - val_root_mean_squared_error: 0.3777\n",
      "Epoch 65/100\n",
      "82/82 [==============================] - 0s 4ms/step - loss: 0.2266 - root_mean_squared_error: 0.1104 - val_loss: 0.5903 - val_root_mean_squared_error: 0.3775\n",
      "Epoch 66/100\n",
      "82/82 [==============================] - 0s 4ms/step - loss: 0.2257 - root_mean_squared_error: 0.1100 - val_loss: 0.5904 - val_root_mean_squared_error: 0.3775\n",
      "Epoch 67/100\n",
      "82/82 [==============================] - 0s 4ms/step - loss: 0.2241 - root_mean_squared_error: 0.1079 - val_loss: 0.5903 - val_root_mean_squared_error: 0.3775\n",
      "Epoch 68/100\n",
      "82/82 [==============================] - 0s 4ms/step - loss: 0.2223 - root_mean_squared_error: 0.1049 - val_loss: 0.5898 - val_root_mean_squared_error: 0.3772\n",
      "Epoch 69/100\n",
      "82/82 [==============================] - 0s 4ms/step - loss: 0.2247 - root_mean_squared_error: 0.1101 - val_loss: 0.5894 - val_root_mean_squared_error: 0.3770\n",
      "Epoch 70/100\n",
      "82/82 [==============================] - 0s 4ms/step - loss: 0.2255 - root_mean_squared_error: 0.1125 - val_loss: 0.5891 - val_root_mean_squared_error: 0.3769\n",
      "Epoch 71/100\n",
      "82/82 [==============================] - 0s 4ms/step - loss: 0.2224 - root_mean_squared_error: 0.1059 - val_loss: 0.5888 - val_root_mean_squared_error: 0.3767\n",
      "Epoch 72/100\n",
      "82/82 [==============================] - 0s 4ms/step - loss: 0.2248 - root_mean_squared_error: 0.1111 - val_loss: 0.5885 - val_root_mean_squared_error: 0.3766\n",
      "Epoch 73/100\n",
      "82/82 [==============================] - 0s 4ms/step - loss: 0.2203 - root_mean_squared_error: 0.1040 - val_loss: 0.5885 - val_root_mean_squared_error: 0.3765\n",
      "Epoch 74/100\n",
      "82/82 [==============================] - 0s 4ms/step - loss: 0.2201 - root_mean_squared_error: 0.1023 - val_loss: 0.5891 - val_root_mean_squared_error: 0.3769\n",
      "Epoch 75/100\n",
      "82/82 [==============================] - 0s 4ms/step - loss: 0.2224 - root_mean_squared_error: 0.1055 - val_loss: 0.5887 - val_root_mean_squared_error: 0.3767\n",
      "Epoch 76/100\n",
      "82/82 [==============================] - 0s 4ms/step - loss: 0.2208 - root_mean_squared_error: 0.1054 - val_loss: 0.5878 - val_root_mean_squared_error: 0.3761\n",
      "Epoch 77/100\n",
      "82/82 [==============================] - 0s 4ms/step - loss: 0.2216 - root_mean_squared_error: 0.1064 - val_loss: 0.5883 - val_root_mean_squared_error: 0.3764\n",
      "Epoch 78/100\n",
      "82/82 [==============================] - 0s 4ms/step - loss: 0.2190 - root_mean_squared_error: 0.0989 - val_loss: 0.5879 - val_root_mean_squared_error: 0.3762\n",
      "Epoch 79/100\n",
      "82/82 [==============================] - 0s 4ms/step - loss: 0.2182 - root_mean_squared_error: 0.1012 - val_loss: 0.5875 - val_root_mean_squared_error: 0.3760\n",
      "Epoch 80/100\n",
      "82/82 [==============================] - 0s 4ms/step - loss: 0.2188 - root_mean_squared_error: 0.1014 - val_loss: 0.5881 - val_root_mean_squared_error: 0.3763\n",
      "Epoch 81/100\n",
      "82/82 [==============================] - 0s 4ms/step - loss: 0.2179 - root_mean_squared_error: 0.0998 - val_loss: 0.5875 - val_root_mean_squared_error: 0.3760\n",
      "Epoch 82/100\n",
      "82/82 [==============================] - 0s 4ms/step - loss: 0.2185 - root_mean_squared_error: 0.1007 - val_loss: 0.5872 - val_root_mean_squared_error: 0.3758\n",
      "Epoch 83/100\n",
      "82/82 [==============================] - 0s 4ms/step - loss: 0.2179 - root_mean_squared_error: 0.0996 - val_loss: 0.5872 - val_root_mean_squared_error: 0.3758\n",
      "Epoch 84/100\n",
      "82/82 [==============================] - 0s 4ms/step - loss: 0.2157 - root_mean_squared_error: 0.0961 - val_loss: 0.5870 - val_root_mean_squared_error: 0.3757\n",
      "Epoch 85/100\n",
      "82/82 [==============================] - 0s 4ms/step - loss: 0.2172 - root_mean_squared_error: 0.1005 - val_loss: 0.5869 - val_root_mean_squared_error: 0.3757\n",
      "Epoch 86/100\n",
      "82/82 [==============================] - 0s 4ms/step - loss: 0.2146 - root_mean_squared_error: 0.0938 - val_loss: 0.5867 - val_root_mean_squared_error: 0.3756\n",
      "Epoch 87/100\n",
      "82/82 [==============================] - 0s 4ms/step - loss: 0.2155 - root_mean_squared_error: 0.0964 - val_loss: 0.5861 - val_root_mean_squared_error: 0.3753\n",
      "Epoch 88/100\n",
      "82/82 [==============================] - 0s 4ms/step - loss: 0.2165 - root_mean_squared_error: 0.1006 - val_loss: 0.5863 - val_root_mean_squared_error: 0.3754\n",
      "Epoch 89/100\n",
      "82/82 [==============================] - 0s 4ms/step - loss: 0.2167 - root_mean_squared_error: 0.0997 - val_loss: 0.5869 - val_root_mean_squared_error: 0.3758\n",
      "Epoch 90/100\n",
      "82/82 [==============================] - 0s 4ms/step - loss: 0.2141 - root_mean_squared_error: 0.0939 - val_loss: 0.5861 - val_root_mean_squared_error: 0.3753\n",
      "Epoch 91/100\n",
      "82/82 [==============================] - 0s 4ms/step - loss: 0.2162 - root_mean_squared_error: 0.1001 - val_loss: 0.5861 - val_root_mean_squared_error: 0.3753\n",
      "Epoch 92/100\n",
      "82/82 [==============================] - 0s 4ms/step - loss: 0.2123 - root_mean_squared_error: 0.0921 - val_loss: 0.5860 - val_root_mean_squared_error: 0.3753\n",
      "Epoch 93/100\n",
      "82/82 [==============================] - 0s 4ms/step - loss: 0.2129 - root_mean_squared_error: 0.0944 - val_loss: 0.5868 - val_root_mean_squared_error: 0.3758\n",
      "Epoch 94/100\n",
      "82/82 [==============================] - 0s 4ms/step - loss: 0.2149 - root_mean_squared_error: 0.0972 - val_loss: 0.5866 - val_root_mean_squared_error: 0.3757\n",
      "Epoch 95/100\n",
      "82/82 [==============================] - 0s 4ms/step - loss: 0.2147 - root_mean_squared_error: 0.0975 - val_loss: 0.5858 - val_root_mean_squared_error: 0.3753\n",
      "Epoch 96/100\n"
     ]
    },
    {
     "name": "stdout",
     "output_type": "stream",
     "text": [
      "82/82 [==============================] - 0s 4ms/step - loss: 0.2129 - root_mean_squared_error: 0.0934 - val_loss: 0.5849 - val_root_mean_squared_error: 0.3747\n",
      "Epoch 97/100\n",
      "82/82 [==============================] - 0s 4ms/step - loss: 0.2119 - root_mean_squared_error: 0.0926 - val_loss: 0.5851 - val_root_mean_squared_error: 0.3748\n",
      "Epoch 98/100\n",
      "82/82 [==============================] - 0s 4ms/step - loss: 0.2129 - root_mean_squared_error: 0.0947 - val_loss: 0.5852 - val_root_mean_squared_error: 0.3748\n",
      "Epoch 99/100\n",
      "82/82 [==============================] - 0s 3ms/step - loss: 0.2111 - root_mean_squared_error: 0.0909 - val_loss: 0.5852 - val_root_mean_squared_error: 0.3749\n",
      "Epoch 100/100\n",
      "82/82 [==============================] - 0s 1ms/step - loss: 0.2135 - root_mean_squared_error: 0.0940 - val_loss: 0.5854 - val_root_mean_squared_error: 0.3750\n"
     ]
    }
   ],
   "source": [
    "history = my_tf_saved_model.fit(\n",
    "    x = x_train,\n",
    "    y = y_train,\n",
    "    batch_size = 8,\n",
    "    epochs = 100,\n",
    "    validation_data = (x_val, y_val)\n",
    ")"
   ]
  },
  {
   "cell_type": "code",
   "execution_count": 24,
   "metadata": {
    "colab": {
     "base_uri": "https://localhost:8080/"
    },
    "id": "A-EvGeNQNfJQ",
    "outputId": "72970299-7ae5-48c4-eb8c-c9e00ffdc604"
   },
   "outputs": [
    {
     "name": "stdout",
     "output_type": "stream",
     "text": [
      "Menampilkan Rekomendasi  Tempat Makan dan Lokasi untuk Pengguna dengan Total : u0207 Pengguna\n",
      "=================================\n",
      "Warung Liku Ayam Betutu : Denpasar Timur : 23_a : Nasi Ayam Betutu Biasa, Nasi Campur Bali, Ayam Betutu, Bebek Betutu, Nasi Ayam Betutu Spesial\n",
      "---------------------------------\n",
      "10 Rekomendasi tempat makan\n",
      "---------------------------------\n",
      "Wr. Nabe Bali : Denpasar Timur : 13_a,13_b,13_c : Nasi Be Genyol, Gulai Iga Babi, Bakso  Balung Bali, Nasi Putih, Nasi Ayam Bali\n",
      "Warung Nasi Tekor Bali : Denpasar Timur : 22_a,22_b : Nasi Campur Biasa, Nasi Campur Spesial, Rujak Kuah Pindang, Tipat Cantok, Rujak Gula Bali \n",
      "Warung Bu Komang : Denpasar Timur : 25_a : Nasi Campur Biasa, Nasi Campur Spesial, Babi Kecap, Sop Babi, Babi Panggang\n",
      "Warung Ibu Widi : Denpasar Selatan : 26_a : Ayam Lalapan, Ayam Penyet, Bi Hun Goreng, Nasi Goreng Ayam, Cap Cay\n",
      "Wr. Babi Guling Singaraja \"Rendi\" : Denpasar Selatan : 46_a,46_b,46_c,46_d,46_e,46_f,46_g,46_h : Nasi Babi Guling Porsi Biasa, Nasi Babi Guling Porsi Pisah, Kuah Balung, Sate Babi, Kulit Babi Guling\n",
      "Warung Bintang Danu : Denpasar : 53_a,53_b : Paket Ikan Pepes, Paket Ikan Nyat Nyat, Ayam Goreng Sambal Matah, Paket Ikan Goreng, Nasi Goreng Bali\n",
      "Nasi ayam Peken Pidada : Gatsu Barat : 63_a,63_b : Lalapan Ayam, Soto Ayam, Soto Ceker, Ayam Geprek, Soto Ayam Biasa\n",
      "Nasi Lawar Pak De : Denpasar : 67_a,67_b : Nasi Lawar Kuah, Nasi Lawar, Paket Komplit Nasi Lawar, Nasi Lawar Spesial, Paket Hemat Nasi Lawar\n",
      "Warung Nasi Lawar Bali OHAHE : Denpasar : 91_a,91_b : Nasi Lawar, Nasi Kuah Balung Babi, Nasi Lawar Komplit, Nasi Lawar Jumbo, Nasi Lawar Soto Babi\n",
      "Warung Lawar Khana : Denpasar : 99_a,99_b : Nasi Lawar Campur, Nasi Soto Lawar Campur, Nasi Campur Spesial Lawar, Nasi Campur Pandemi, Nasi Soto Babi\n"
     ]
    }
   ],
   "source": [
    "rating = model.predict(user_tempat_array).flatten()\n",
    " \n",
    "top_rating_indices = rating.argsort()[-10:][::-1]\n",
    "recommended_tempat_ids = [\n",
    "    tempat_encoded_to_tempat.get(tempat_not_visited[x][0]) for x in top_rating_indices\n",
    "]\n",
    " \n",
    "print('Menampilkan Rekomendasi  Tempat Makan dan Lokasi untuk Pengguna dengan Total : {} Pengguna'.format(user_id))\n",
    "print('===' * 11)\n",
    "top_tempat_user = (\n",
    "    tempat_visited_by_user.sort_values(\n",
    "        by = 'Rating',\n",
    "        ascending=False\n",
    "    )\n",
    "    .head(5)\n",
    "    .ID_Tempat.values\n",
    ")\n",
    " \n",
    "tempat_mydata_rows = tempat_mydata[tempat_mydata['id'].isin(top_tempat_user)]\n",
    "for row in tempat_mydata_rows.itertuples():\n",
    "    print(row.nama, ':', row.lokasi, ':', row.gambar, ':', row.menu)\n",
    " \n",
    "print('---' * 11)\n",
    "print('10 Rekomendasi tempat makan')\n",
    "print('---' * 11)\n",
    " \n",
    "recommended_tempat = tempat_mydata[tempat_mydata['id'].isin(recommended_tempat_ids)]\n",
    "for row in recommended_tempat.itertuples():\n",
    "    print(row.nama, ':', row.lokasi,':', row.gambar, ':', row.menu)"
   ]
  },
  {
   "cell_type": "markdown",
   "metadata": {
    "id": "q76THc6mUhhp"
   },
   "source": [
    "### Evaluasi"
   ]
  },
  {
   "cell_type": "code",
   "execution_count": null,
   "metadata": {
    "id": "maIphAnYUmee"
   },
   "outputs": [],
   "source": [
    "from sklearn.metrics import mean_squared_error\n",
    "import math\n",
    "result = mean_squared_error(y_true=y_val, y_pred=model.predict(x_val))/1e3\n",
    "RMSE = math.sqrt(result)\n",
    "print(\"RMSE dari data = \", RMSE) "
   ]
  },
  {
   "cell_type": "markdown",
   "metadata": {
    "id": "PbvXNwzGVjlC"
   },
   "source": [
    "Hasil evaluasi yakni nilai RMSE adalah 0,0126 yang berarti  semakin mendekati 0 semakin akurat"
   ]
  },
  {
   "cell_type": "markdown",
   "metadata": {
    "id": "mZZ1rbX5VjsW"
   },
   "source": []
  },
  {
   "cell_type": "markdown",
   "metadata": {
    "id": "vQzQFZ7nVj3F"
   },
   "source": []
  },
  {
   "cell_type": "markdown",
   "metadata": {
    "id": "sTdb5cLnZtT5"
   },
   "source": [
    "### Kode Program Yang bukan rekomendasi Coach"
   ]
  },
  {
   "cell_type": "code",
   "execution_count": null,
   "metadata": {
    "id": "v2zxtjKXZw8y"
   },
   "outputs": [],
   "source": [
    "!pip install scikit-surprise"
   ]
  },
  {
   "cell_type": "code",
   "execution_count": null,
   "metadata": {
    "id": "z-XX1FX8Fbho"
   },
   "outputs": [],
   "source": [
    "mydata = mydata.drop(columns=['Nama_Tempat', 'Nama_User', 'Daerah', 'Latitude', 'Longitude', 'Telepon'], axis=1)\n",
    "mydata"
   ]
  },
  {
   "cell_type": "code",
   "execution_count": null,
   "metadata": {
    "id": "xLRCu5GWVTJ-"
   },
   "outputs": [],
   "source": [
    "# main dataframe to be used\n",
    "df = mydata.loc[:, ['ID_User', 'ID_Tempat', 'Rating']]"
   ]
  },
  {
   "cell_type": "code",
   "execution_count": null,
   "metadata": {
    "id": "M-u8gZ17VQl3"
   },
   "outputs": [],
   "source": [
    "mydata.ID_User.nunique()"
   ]
  },
  {
   "cell_type": "code",
   "execution_count": null,
   "metadata": {
    "id": "U5PSY4w1VRND"
   },
   "outputs": [],
   "source": [
    "mydata.ID_Tempat.nunique()"
   ]
  },
  {
   "cell_type": "markdown",
   "metadata": {
    "id": "8BoTHy1YUkPc"
   },
   "source": [
    "## CONTINOUS ID MAPPING"
   ]
  },
  {
   "cell_type": "code",
   "execution_count": null,
   "metadata": {
    "id": "P6stdu6XUmuV"
   },
   "outputs": [],
   "source": [
    "def proc_col(col):\n",
    "    uniq = col.unique()\n",
    "    name2idx = {o: i for i, o in enumerate(uniq)}\n",
    "    idx2name = {i: e for i, e in enumerate(name2idx.keys())}\n",
    "    return idx2name, np.array([name2idx[x] for x in col]), len(uniq)"
   ]
  },
  {
   "cell_type": "code",
   "execution_count": null,
   "metadata": {
    "id": "BysySMf4UslA"
   },
   "outputs": [],
   "source": [
    "def encode_data(df):\n",
    "    idx2user, user_col, num_users = proc_col(df.ID_User)\n",
    "    idx2tempat, tempat_col, num_tempat = proc_col(df.ID_Tempat)\n",
    "    df.ID_User = user_col\n",
    "    df.ID_Tempat = tempat_col\n",
    "    return df, idx2user, idx2tempat, num_users, num_tempat"
   ]
  },
  {
   "cell_type": "code",
   "execution_count": null,
   "metadata": {
    "id": "UVDM6fOVUwuK"
   },
   "outputs": [],
   "source": [
    "df, idx2user, idx2tempat, num_users, num_tempat = encode_data(df)"
   ]
  },
  {
   "cell_type": "markdown",
   "metadata": {
    "id": "_DM10OMHV2D4"
   },
   "source": [
    "## CREATING EMBEDDINGS"
   ]
  },
  {
   "cell_type": "code",
   "execution_count": null,
   "metadata": {
    "id": "ERzZnAyuWB3e"
   },
   "outputs": [],
   "source": [
    "def create_embedings(n, num_factors):\n",
    "    embedding = 6 * np.random.random((n, num_factors)) / num_factors\n",
    "    return embedding"
   ]
  },
  {
   "cell_type": "code",
   "execution_count": null,
   "metadata": {
    "id": "Ft1F9P8aWmWr"
   },
   "outputs": [],
   "source": [
    "def df2matrix(df, nrows, ncols, column_name=\"Rating\"):\n",
    "    values = df[column_name].values\n",
    "    ind_tempat = df['ID_Tempat'].values\n",
    "    ind_user = df['ID_User'].values\n",
    "    return sparse.csc_matrix((values, (ind_user, ind_tempat)), shape=(nrows, ncols))"
   ]
  },
  {
   "cell_type": "code",
   "execution_count": null,
   "metadata": {
    "id": "pP2bVLssWpb2"
   },
   "outputs": [],
   "source": [
    "Y = df2matrix(df, num_users, num_tempat)"
   ]
  },
  {
   "cell_type": "code",
   "execution_count": null,
   "metadata": {
    "id": "Qr67EGvQWupC"
   },
   "outputs": [],
   "source": [
    "def sparse_multiply(df, emb_user, emb_tempat):\n",
    "    df[\"prediction\"] = np.sum(emb_user[df[\"ID_User\"].values] * emb_tempat[df[\"ID_Tempat\"].values],axis=1)\n",
    "    return df2matrix(df, emb_user.shape[0], emb_tempat.shape[0], column_name=\"prediction\")"
   ]
  },
  {
   "cell_type": "code",
   "execution_count": null,
   "metadata": {
    "id": "ynEQaSusWwrx"
   },
   "outputs": [],
   "source": [
    "def cost(df, emb_user, emb_tempat):\n",
    "    df[\"prediction\"] = np.sum(emb_user[df[\"ID_User\"].values]*emb_tempat[df[\"ID_Tempat\"].values], axis=1)\n",
    "    error = np.mean(np.square(df.prediction - df.Rating))\n",
    "    return error"
   ]
  },
  {
   "cell_type": "code",
   "execution_count": null,
   "metadata": {
    "id": "V5_8GAYpWxRa"
   },
   "outputs": [],
   "source": [
    "def gradient(df, Y, emb_user, emb_tempat):\n",
    "    R = Y.sign().todense()\n",
    "    delta = np.multiply(Y.todense(),R) - sparse_multiply(df,emb_user,emb_tempat).todense()\n",
    "    d_emb_user = -2*np.dot(delta,emb_tempat)/len(Y.data)\n",
    "    d_emb_tempat = -2*np.dot(delta.transpose(),emb_user)/len(Y.data)\n",
    "    return d_emb_user,d_emb_tempat"
   ]
  },
  {
   "cell_type": "code",
   "execution_count": null,
   "metadata": {
    "id": "uMp5ygclWzpn"
   },
   "outputs": [],
   "source": [
    "def gradient_descent(df,\n",
    "                     emb_user,\n",
    "                     emb_tempat,\n",
    "                     iterations=100,\n",
    "                     learning_rate=0.01,\n",
    "                     df_val=None):\n",
    "    Y = df2matrix(df, emb_user.shape[0], emb_tempat.shape[0])\n",
    "    grad_u_moment, grad_m_moment = gradient(df, Y, emb_user, emb_tempat)\n",
    "    emb_user = np.array(np.subtract(emb_user, learning_rate * grad_u_moment))\n",
    "    emb_tempat = np.array(np.subtract(emb_tempat, learning_rate * grad_m_moment))\n",
    "    for i in range(iterations - 1):\n",
    "        grad_user, grad_tempat = gradient(df, Y, emb_user, emb_tempat)\n",
    "        grad_u_moment = .9 * grad_u_moment + .1 * grad_user\n",
    "        grad_m_moment = .9 * grad_m_moment + .1 * grad_tempat\n",
    "        emb_user = np.array(\n",
    "            np.subtract(emb_user, learning_rate * grad_u_moment))\n",
    "        emb_tempat = np.array(\n",
    "            np.subtract(emb_tempat, learning_rate * grad_m_moment))\n",
    "        if i % 50 == 0:\n",
    "            print(\"Training cost:\", cost(df, emb_user, emb_tempat))\n",
    "        if df_val is not None and i % 50 == 0:\n",
    "            print(\"Validation cost:\", cost(df_val, emb_user, emb_tempat))\n",
    "    return emb_user, emb_tempat"
   ]
  },
  {
   "cell_type": "code",
   "execution_count": null,
   "metadata": {
    "id": "8HU98uN7W4LT"
   },
   "outputs": [],
   "source": [
    "K = 50\n",
    "emb_user = create_embedings(num_users, K)\n",
    "emb_tempat = create_embedings(num_tempat, K)"
   ]
  },
  {
   "cell_type": "code",
   "execution_count": null,
   "metadata": {
    "id": "RntxznAmW6qx"
   },
   "outputs": [],
   "source": [
    "msk = np.random.rand(len(df)) < 0.8\n",
    "train = df[msk].copy()\n",
    "val = df[~msk].copy()"
   ]
  },
  {
   "cell_type": "code",
   "execution_count": null,
   "metadata": {
    "id": "WYb7qV8TW_I-"
   },
   "outputs": [],
   "source": [
    "train.shape"
   ]
  },
  {
   "cell_type": "code",
   "execution_count": null,
   "metadata": {
    "id": "iJ200mrpXBbM"
   },
   "outputs": [],
   "source": [
    "val.shape"
   ]
  },
  {
   "cell_type": "code",
   "execution_count": null,
   "metadata": {
    "id": "yM85qz9ZXDnY"
   },
   "outputs": [],
   "source": [
    "emb_user, emb_tempat = gradient_descent(train, emb_user, emb_tempat, iterations=500, learning_rate=1,df_val=val)"
   ]
  },
  {
   "cell_type": "code",
   "execution_count": null,
   "metadata": {
    "id": "3pwKAV73XERo"
   },
   "outputs": [],
   "source": [
    "emb_tempat.shape"
   ]
  },
  {
   "cell_type": "code",
   "execution_count": null,
   "metadata": {
    "id": "-TWmBqElXGNO"
   },
   "outputs": [],
   "source": [
    "emb_user.shape"
   ]
  },
  {
   "cell_type": "code",
   "execution_count": null,
   "metadata": {
    "id": "iWujEz1SXILl"
   },
   "outputs": [],
   "source": [
    "val.head()"
   ]
  },
  {
   "cell_type": "code",
   "execution_count": null,
   "metadata": {
    "id": "Aft1C9nJcyaJ"
   },
   "outputs": [],
   "source": []
  },
  {
   "cell_type": "code",
   "execution_count": null,
   "metadata": {
    "id": "hHqNTJbNcycc"
   },
   "outputs": [],
   "source": []
  },
  {
   "cell_type": "code",
   "execution_count": null,
   "metadata": {
    "id": "4I1nnP3hcyfB"
   },
   "outputs": [],
   "source": []
  },
  {
   "cell_type": "code",
   "execution_count": null,
   "metadata": {
    "id": "DSjaMQaTcy84"
   },
   "outputs": [],
   "source": []
  }
 ],
 "metadata": {
  "colab": {
   "collapsed_sections": [],
   "name": "Projek_Akhir Orbit.ipynb",
   "provenance": []
  },
  "kernelspec": {
   "display_name": "Python 3 (ipykernel)",
   "language": "python",
   "name": "python3"
  },
  "language_info": {
   "codemirror_mode": {
    "name": "ipython",
    "version": 3
   },
   "file_extension": ".py",
   "mimetype": "text/x-python",
   "name": "python",
   "nbconvert_exporter": "python",
   "pygments_lexer": "ipython3",
   "version": "3.9.7"
  }
 },
 "nbformat": 4,
 "nbformat_minor": 1
}
